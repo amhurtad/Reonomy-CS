{
 "cells": [
  {
   "cell_type": "code",
   "execution_count": 1,
   "id": "guided-seeking",
   "metadata": {},
   "outputs": [],
   "source": [
    "import pandas as pd\n",
    "import numpy as np\n",
    "import matplotlib.pyplot as plt"
   ]
  },
  {
   "cell_type": "code",
   "execution_count": 2,
   "id": "bored-shell",
   "metadata": {},
   "outputs": [
    {
     "name": "stderr",
     "output_type": "stream",
     "text": [
      "C:\\Users\\alexa\\Anaconda3\\lib\\site-packages\\IPython\\core\\interactiveshell.py:3166: DtypeWarning: Columns (10,11,12,13) have mixed types. Specify dtype option on import or set low_memory=False.\n",
      "  interactivity=interactivity, compiler=compiler, result=result)\n"
     ]
    }
   ],
   "source": [
    "dataset = pd.read_csv('data_source.csv')"
   ]
  },
  {
   "cell_type": "code",
   "execution_count": 3,
   "id": "young-mixer",
   "metadata": {},
   "outputs": [
    {
     "data": {
      "text/html": [
       "<div>\n",
       "<style scoped>\n",
       "    .dataframe tbody tr th:only-of-type {\n",
       "        vertical-align: middle;\n",
       "    }\n",
       "\n",
       "    .dataframe tbody tr th {\n",
       "        vertical-align: top;\n",
       "    }\n",
       "\n",
       "    .dataframe thead th {\n",
       "        text-align: right;\n",
       "    }\n",
       "</style>\n",
       "<table border=\"1\" class=\"dataframe\">\n",
       "  <thead>\n",
       "    <tr style=\"text-align: right;\">\n",
       "      <th></th>\n",
       "      <th>case_number</th>\n",
       "      <th>visa_class</th>\n",
       "      <th>case_status</th>\n",
       "      <th>employer_name</th>\n",
       "      <th>employer_business_dba</th>\n",
       "      <th>employer_address</th>\n",
       "      <th>employer_city</th>\n",
       "      <th>employer_state</th>\n",
       "      <th>employer_postal_code</th>\n",
       "      <th>employer_country</th>\n",
       "      <th>...</th>\n",
       "      <th>new_concurrent_employment</th>\n",
       "      <th>change_employer</th>\n",
       "      <th>amended_petition</th>\n",
       "      <th>pw_wage_level</th>\n",
       "      <th>pw_source</th>\n",
       "      <th>pw_source_year</th>\n",
       "      <th>pw_source_other</th>\n",
       "      <th>support_h1b</th>\n",
       "      <th>labor_con_agree</th>\n",
       "      <th>public_disclosure_location</th>\n",
       "    </tr>\n",
       "  </thead>\n",
       "  <tbody>\n",
       "    <tr>\n",
       "      <th>0</th>\n",
       "      <td>I-200-17060-115035</td>\n",
       "      <td>H-1B</td>\n",
       "      <td>CERTIFIED</td>\n",
       "      <td>SIMERICS, INC.</td>\n",
       "      <td>NaN</td>\n",
       "      <td>1750 112TH AVENUE NE</td>\n",
       "      <td>BELLEVUE</td>\n",
       "      <td>WA</td>\n",
       "      <td>98004</td>\n",
       "      <td>UNITED STATES OF AMERICA</td>\n",
       "      <td>...</td>\n",
       "      <td>0.0</td>\n",
       "      <td>0.0</td>\n",
       "      <td>0.0</td>\n",
       "      <td>Level II</td>\n",
       "      <td>Other</td>\n",
       "      <td>2016.0</td>\n",
       "      <td>OFLC ONLINE DATA CENTER</td>\n",
       "      <td>NaN</td>\n",
       "      <td>NaN</td>\n",
       "      <td>NaN</td>\n",
       "    </tr>\n",
       "    <tr>\n",
       "      <th>1</th>\n",
       "      <td>I-200-17060-521850</td>\n",
       "      <td>H-1B</td>\n",
       "      <td>CERTIFIED</td>\n",
       "      <td>MIZUHO BANK, LTD.</td>\n",
       "      <td>NaN</td>\n",
       "      <td>1251 AVENUE OF THE AMERICAS</td>\n",
       "      <td>NEW YORK</td>\n",
       "      <td>NY</td>\n",
       "      <td>10020</td>\n",
       "      <td>UNITED STATES OF AMERICA</td>\n",
       "      <td>...</td>\n",
       "      <td>0.0</td>\n",
       "      <td>0.0</td>\n",
       "      <td>0.0</td>\n",
       "      <td>Level I</td>\n",
       "      <td>OES</td>\n",
       "      <td>2016.0</td>\n",
       "      <td>OFLC ONLINE DATA CENTER</td>\n",
       "      <td>NaN</td>\n",
       "      <td>NaN</td>\n",
       "      <td>NaN</td>\n",
       "    </tr>\n",
       "    <tr>\n",
       "      <th>2</th>\n",
       "      <td>I-200-17060-438863</td>\n",
       "      <td>H-1B</td>\n",
       "      <td>CERTIFIED</td>\n",
       "      <td>TATA CONSULTANCY SERVICES LIMITED</td>\n",
       "      <td>NaN</td>\n",
       "      <td>9201 CORPORATE BOULEVARD</td>\n",
       "      <td>ROCKVILLE</td>\n",
       "      <td>MD</td>\n",
       "      <td>20850</td>\n",
       "      <td>UNITED STATES OF AMERICA</td>\n",
       "      <td>...</td>\n",
       "      <td>0.0</td>\n",
       "      <td>0.0</td>\n",
       "      <td>0.0</td>\n",
       "      <td>Level II</td>\n",
       "      <td>OES</td>\n",
       "      <td>2016.0</td>\n",
       "      <td>OFLC ONLINE DATA CENTER</td>\n",
       "      <td>Y</td>\n",
       "      <td>NaN</td>\n",
       "      <td>NaN</td>\n",
       "    </tr>\n",
       "    <tr>\n",
       "      <th>3</th>\n",
       "      <td>I-200-17060-312033</td>\n",
       "      <td>H-1B</td>\n",
       "      <td>CERTIFIED</td>\n",
       "      <td>STRATEGIC RESOURCES INTERNATIONAL, INC.</td>\n",
       "      <td>NaN</td>\n",
       "      <td>777 WASHINGTON RD</td>\n",
       "      <td>PARLIN</td>\n",
       "      <td>NJ</td>\n",
       "      <td>08859</td>\n",
       "      <td>UNITED STATES OF AMERICA</td>\n",
       "      <td>...</td>\n",
       "      <td>0.0</td>\n",
       "      <td>0.0</td>\n",
       "      <td>0.0</td>\n",
       "      <td>Level I</td>\n",
       "      <td>Other</td>\n",
       "      <td>2016.0</td>\n",
       "      <td>OFLC ONLINE DATA CENTER</td>\n",
       "      <td>Y</td>\n",
       "      <td>Y</td>\n",
       "      <td>NaN</td>\n",
       "    </tr>\n",
       "    <tr>\n",
       "      <th>4</th>\n",
       "      <td>I-200-17060-336602</td>\n",
       "      <td>H-1B</td>\n",
       "      <td>CERTIFIED</td>\n",
       "      <td>EAPT SOLUTIONS, INC.</td>\n",
       "      <td>NaN</td>\n",
       "      <td>5 VAUGHN STREET</td>\n",
       "      <td>PRINCETON</td>\n",
       "      <td>NJ</td>\n",
       "      <td>08540</td>\n",
       "      <td>UNITED STATES OF AMERICA</td>\n",
       "      <td>...</td>\n",
       "      <td>0.0</td>\n",
       "      <td>1.0</td>\n",
       "      <td>0.0</td>\n",
       "      <td>Level I</td>\n",
       "      <td>OES</td>\n",
       "      <td>2016.0</td>\n",
       "      <td>OFLC ONLINE DATA CENTER</td>\n",
       "      <td>Y</td>\n",
       "      <td>NaN</td>\n",
       "      <td>NaN</td>\n",
       "    </tr>\n",
       "  </tbody>\n",
       "</table>\n",
       "<p>5 rows × 52 columns</p>\n",
       "</div>"
      ],
      "text/plain": [
       "          case_number visa_class case_status  \\\n",
       "0  I-200-17060-115035       H-1B   CERTIFIED   \n",
       "1  I-200-17060-521850       H-1B   CERTIFIED   \n",
       "2  I-200-17060-438863       H-1B   CERTIFIED   \n",
       "3  I-200-17060-312033       H-1B   CERTIFIED   \n",
       "4  I-200-17060-336602       H-1B   CERTIFIED   \n",
       "\n",
       "                             employer_name employer_business_dba  \\\n",
       "0                           SIMERICS, INC.                   NaN   \n",
       "1                        MIZUHO BANK, LTD.                   NaN   \n",
       "2        TATA CONSULTANCY SERVICES LIMITED                   NaN   \n",
       "3  STRATEGIC RESOURCES INTERNATIONAL, INC.                   NaN   \n",
       "4                     EAPT SOLUTIONS, INC.                   NaN   \n",
       "\n",
       "              employer_address employer_city employer_state  \\\n",
       "0         1750 112TH AVENUE NE      BELLEVUE             WA   \n",
       "1  1251 AVENUE OF THE AMERICAS      NEW YORK             NY   \n",
       "2     9201 CORPORATE BOULEVARD     ROCKVILLE             MD   \n",
       "3            777 WASHINGTON RD        PARLIN             NJ   \n",
       "4              5 VAUGHN STREET     PRINCETON             NJ   \n",
       "\n",
       "  employer_postal_code          employer_country  ...  \\\n",
       "0                98004  UNITED STATES OF AMERICA  ...   \n",
       "1                10020  UNITED STATES OF AMERICA  ...   \n",
       "2                20850  UNITED STATES OF AMERICA  ...   \n",
       "3                08859  UNITED STATES OF AMERICA  ...   \n",
       "4                08540  UNITED STATES OF AMERICA  ...   \n",
       "\n",
       "  new_concurrent_employment change_employer amended_petition pw_wage_level  \\\n",
       "0                       0.0             0.0              0.0      Level II   \n",
       "1                       0.0             0.0              0.0       Level I   \n",
       "2                       0.0             0.0              0.0      Level II   \n",
       "3                       0.0             0.0              0.0       Level I   \n",
       "4                       0.0             1.0              0.0       Level I   \n",
       "\n",
       "  pw_source pw_source_year          pw_source_other  support_h1b  \\\n",
       "0     Other         2016.0  OFLC ONLINE DATA CENTER          NaN   \n",
       "1       OES         2016.0  OFLC ONLINE DATA CENTER          NaN   \n",
       "2       OES         2016.0  OFLC ONLINE DATA CENTER            Y   \n",
       "3     Other         2016.0  OFLC ONLINE DATA CENTER            Y   \n",
       "4       OES         2016.0  OFLC ONLINE DATA CENTER            Y   \n",
       "\n",
       "  labor_con_agree public_disclosure_location  \n",
       "0             NaN                        NaN  \n",
       "1             NaN                        NaN  \n",
       "2             NaN                        NaN  \n",
       "3               Y                        NaN  \n",
       "4             NaN                        NaN  \n",
       "\n",
       "[5 rows x 52 columns]"
      ]
     },
     "execution_count": 3,
     "metadata": {},
     "output_type": "execute_result"
    }
   ],
   "source": [
    "dataset.head()"
   ]
  },
  {
   "cell_type": "code",
   "execution_count": 4,
   "id": "disabled-marble",
   "metadata": {},
   "outputs": [
    {
     "data": {
      "text/plain": [
       "(624650, 52)"
      ]
     },
     "execution_count": 4,
     "metadata": {},
     "output_type": "execute_result"
    }
   ],
   "source": [
    "dataset.shape"
   ]
  },
  {
   "cell_type": "code",
   "execution_count": 31,
   "id": "finnish-fruit",
   "metadata": {},
   "outputs": [
    {
     "data": {
      "text/plain": [
       "case_number                     object\n",
       "visa_class                      object\n",
       "case_status                     object\n",
       "employer_name                   object\n",
       "employer_business_dba           object\n",
       "employer_address                object\n",
       "employer_city                   object\n",
       "employer_state                  object\n",
       "employer_postal_code            object\n",
       "employer_country                object\n",
       "employer_province               object\n",
       "employer_phone                  object\n",
       "employer_phone_ext              object\n",
       "naics_industry_code             object\n",
       "soc_name                        object\n",
       "soc_code                        object\n",
       "job_title                       object\n",
       "total_workers                    int64\n",
       "case_submitted                  object\n",
       "decision_date                   object\n",
       "employment_start_date           object\n",
       "employment_end_date             object\n",
       "full_time_position              object\n",
       "prevailing_wage                float64\n",
       "pw_unit_of_pay                  object\n",
       "wage_rate_of_pay_from          float64\n",
       "wage_rate_of_pay_to            float64\n",
       "wage_unit_of_pay                object\n",
       "worksite_city                   object\n",
       "worksite_county                 object\n",
       "worksite_state                  object\n",
       "worksite_postal_code            object\n",
       "agent_attorney_name             object\n",
       "agent_representing_employer     object\n",
       "agent_attorney_city             object\n",
       "agent_attorney_state            object\n",
       "h1b_dependent                   object\n",
       "willful_violator                object\n",
       "original_cert_date              object\n",
       "new_employment                 float64\n",
       "continued_employment           float64\n",
       "change_previous_employment     float64\n",
       "new_concurrent_employment      float64\n",
       "change_employer                float64\n",
       "amended_petition               float64\n",
       "pw_wage_level                   object\n",
       "pw_source                       object\n",
       "pw_source_year                 float64\n",
       "pw_source_other                 object\n",
       "support_h1b                     object\n",
       "labor_con_agree                 object\n",
       "public_disclosure_location     float64\n",
       "dtype: object"
      ]
     },
     "execution_count": 31,
     "metadata": {},
     "output_type": "execute_result"
    }
   ],
   "source": [
    "dataset.dtypes"
   ]
  },
  {
   "cell_type": "code",
   "execution_count": 5,
   "id": "super-sustainability",
   "metadata": {},
   "outputs": [
    {
     "data": {
      "text/plain": [
       "Index(['case_number', 'visa_class', 'case_status', 'employer_name',\n",
       "       'employer_business_dba', 'employer_address', 'employer_city',\n",
       "       'employer_state', 'employer_postal_code', 'employer_country',\n",
       "       'employer_province', 'employer_phone', 'employer_phone_ext',\n",
       "       'naics_industry_code', 'soc_name', 'soc_code', 'job_title',\n",
       "       'total_workers', 'case_submitted', 'decision_date',\n",
       "       'employment_start_date', 'employment_end_date', 'full_time_position',\n",
       "       'prevailing_wage', 'pw_unit_of_pay', 'wage_rate_of_pay_from',\n",
       "       'wage_rate_of_pay_to', 'wage_unit_of_pay', 'worksite_city',\n",
       "       'worksite_county', 'worksite_state', 'worksite_postal_code',\n",
       "       'agent_attorney_name', 'agent_representing_employer',\n",
       "       'agent_attorney_city', 'agent_attorney_state', 'h1b_dependent',\n",
       "       'willful_violator', 'original_cert_date', 'new_employment',\n",
       "       'continued_employment', 'change_previous_employment',\n",
       "       'new_concurrent_employment', 'change_employer', 'amended_petition',\n",
       "       'pw_wage_level', 'pw_source', 'pw_source_year', 'pw_source_other',\n",
       "       'support_h1b', 'labor_con_agree', 'public_disclosure_location'],\n",
       "      dtype='object')"
      ]
     },
     "execution_count": 5,
     "metadata": {},
     "output_type": "execute_result"
    }
   ],
   "source": [
    "dataset.columns"
   ]
  },
  {
   "cell_type": "code",
   "execution_count": 6,
   "id": "greek-maldives",
   "metadata": {},
   "outputs": [
    {
     "data": {
      "text/plain": [
       "H-1B               610304\n",
       "E-3 Australian      12157\n",
       "H-1B1 Singapore      1254\n",
       "H-1B1 Chile           935\n",
       "Name: visa_class, dtype: int64"
      ]
     },
     "execution_count": 6,
     "metadata": {},
     "output_type": "execute_result"
    }
   ],
   "source": [
    "#Column used for h-1b requirement \n",
    "\n",
    "dataset['visa_class'].value_counts()"
   ]
  },
  {
   "cell_type": "code",
   "execution_count": 9,
   "id": "embedded-radio",
   "metadata": {},
   "outputs": [
    {
     "data": {
      "text/plain": [
       "CERTIFIED              545694\n",
       "CERTIFIED-WITHDRAWN     49704\n",
       "WITHDRAWN               20772\n",
       "DENIED                   8480\n",
       "Name: case_status, dtype: int64"
      ]
     },
     "execution_count": 9,
     "metadata": {},
     "output_type": "execute_result"
    }
   ],
   "source": [
    "dataset['case_status'].value_counts()"
   ]
  },
  {
   "cell_type": "code",
   "execution_count": 11,
   "id": "turned-breath",
   "metadata": {},
   "outputs": [
    {
     "data": {
      "text/plain": [
       "PLANO            34320\n",
       "NEW YORK         31022\n",
       "CHICAGO          25581\n",
       "ROCKVILLE        14499\n",
       "EDISON           12670\n",
       "PHILADELPHIA     12057\n",
       "DURHAM           11638\n",
       "SAN FRANCISCO    11199\n",
       "TROY             10938\n",
       "IRVING           10445\n",
       "Name: employer_city, dtype: int64"
      ]
     },
     "execution_count": 11,
     "metadata": {},
     "output_type": "execute_result"
    }
   ],
   "source": [
    "dataset['employer_city'].value_counts().head(10)"
   ]
  },
  {
   "cell_type": "code",
   "execution_count": 13,
   "id": "lasting-nurse",
   "metadata": {},
   "outputs": [
    {
     "data": {
      "text/plain": [
       "CA    105701\n",
       "TX     87664\n",
       "NJ     76061\n",
       "NY     44097\n",
       "IL     41296\n",
       "MI     27320\n",
       "PA     25564\n",
       "MA     23383\n",
       "MD     21394\n",
       "WA     20786\n",
       "Name: employer_state, dtype: int64"
      ]
     },
     "execution_count": 13,
     "metadata": {},
     "output_type": "execute_result"
    }
   ],
   "source": [
    "dataset['employer_state'].value_counts().head(10)"
   ]
  },
  {
   "cell_type": "code",
   "execution_count": 17,
   "id": "median-coordinate",
   "metadata": {},
   "outputs": [
    {
     "data": {
      "text/plain": [
       "MIDDLESEX         1541\n",
       "EAST BRUNSWICK     635\n",
       "CALIFORNIA         382\n",
       "USA                276\n",
       "COOK               262\n",
       "ALAMEDA            256\n",
       "LOUDOUN            185\n",
       "MICHIGAN           158\n",
       "WASHINGTON         113\n",
       "NEW JERSEY          88\n",
       "Name: employer_province, dtype: int64"
      ]
     },
     "execution_count": 17,
     "metadata": {},
     "output_type": "execute_result"
    }
   ],
   "source": [
    "dataset['employer_province'].value_counts().head(10)"
   ]
  },
  {
   "cell_type": "code",
   "execution_count": 22,
   "id": "collected-producer",
   "metadata": {},
   "outputs": [
    {
     "data": {
      "text/plain": [
       "NEW YORK         37722\n",
       "SAN FRANCISCO    16145\n",
       "HOUSTON          13416\n",
       "CHICAGO          11757\n",
       "ATLANTA          11115\n",
       "SAN JOSE         10916\n",
       "IRVING            8818\n",
       "SEATTLE           8630\n",
       "SUNNYVALE         8282\n",
       "DALLAS            8056\n",
       "Name: worksite_city, dtype: int64"
      ]
     },
     "execution_count": 22,
     "metadata": {},
     "output_type": "execute_result"
    }
   ],
   "source": [
    "dataset['worksite_city'].value_counts().head(10)"
   ]
  },
  {
   "cell_type": "code",
   "execution_count": 23,
   "id": "lined-collect",
   "metadata": {},
   "outputs": [
    {
     "data": {
      "text/plain": [
       "SANTA CLARA      41862\n",
       "NEW YORK         37684\n",
       "KING             22563\n",
       "DALLAS           21697\n",
       "MIDDLESEX        21469\n",
       "COOK             17641\n",
       "LOS ANGELES      17411\n",
       "SAN FRANCISCO    15678\n",
       "HARRIS           14040\n",
       "FULTON           13151\n",
       "Name: worksite_county, dtype: int64"
      ]
     },
     "execution_count": 23,
     "metadata": {},
     "output_type": "execute_result"
    }
   ],
   "source": [
    "dataset['worksite_county'].value_counts().head(10)"
   ]
  },
  {
   "cell_type": "code",
   "execution_count": 24,
   "id": "streaming-investing",
   "metadata": {},
   "outputs": [
    {
     "data": {
      "text/plain": [
       "CA    119409\n",
       "TX     66163\n",
       "NY     54974\n",
       "NJ     42571\n",
       "IL     32082\n",
       "WA     25476\n",
       "MA     25016\n",
       "GA     22521\n",
       "FL     21815\n",
       "PA     21600\n",
       "Name: worksite_state, dtype: int64"
      ]
     },
     "execution_count": 24,
     "metadata": {},
     "output_type": "execute_result"
    }
   ],
   "source": [
    "dataset['worksite_state'].value_counts().head(10)"
   ]
  },
  {
   "cell_type": "code",
   "execution_count": null,
   "id": "binding-specialist",
   "metadata": {},
   "outputs": [],
   "source": [
    "#Why are the counts for employer and worksite cities and states different? "
   ]
  },
  {
   "cell_type": "code",
   "execution_count": 27,
   "id": "indirect-relay",
   "metadata": {},
   "outputs": [
    {
     "data": {
      "text/html": [
       "<div>\n",
       "<style scoped>\n",
       "    .dataframe tbody tr th:only-of-type {\n",
       "        vertical-align: middle;\n",
       "    }\n",
       "\n",
       "    .dataframe tbody tr th {\n",
       "        vertical-align: top;\n",
       "    }\n",
       "\n",
       "    .dataframe thead th {\n",
       "        text-align: right;\n",
       "    }\n",
       "</style>\n",
       "<table border=\"1\" class=\"dataframe\">\n",
       "  <thead>\n",
       "    <tr style=\"text-align: right;\">\n",
       "      <th></th>\n",
       "      <th>case_number</th>\n",
       "      <th>visa_class</th>\n",
       "      <th>case_status</th>\n",
       "      <th>employer_name</th>\n",
       "      <th>employer_business_dba</th>\n",
       "      <th>employer_address</th>\n",
       "      <th>employer_city</th>\n",
       "      <th>employer_state</th>\n",
       "      <th>employer_postal_code</th>\n",
       "      <th>employer_country</th>\n",
       "      <th>...</th>\n",
       "      <th>new_concurrent_employment</th>\n",
       "      <th>change_employer</th>\n",
       "      <th>amended_petition</th>\n",
       "      <th>pw_wage_level</th>\n",
       "      <th>pw_source</th>\n",
       "      <th>pw_source_year</th>\n",
       "      <th>pw_source_other</th>\n",
       "      <th>support_h1b</th>\n",
       "      <th>labor_con_agree</th>\n",
       "      <th>public_disclosure_location</th>\n",
       "    </tr>\n",
       "  </thead>\n",
       "  <tbody>\n",
       "    <tr>\n",
       "      <th>count</th>\n",
       "      <td>624650</td>\n",
       "      <td>624650</td>\n",
       "      <td>624650</td>\n",
       "      <td>624594</td>\n",
       "      <td>43270</td>\n",
       "      <td>624643</td>\n",
       "      <td>624635</td>\n",
       "      <td>624632</td>\n",
       "      <td>624632</td>\n",
       "      <td>528143</td>\n",
       "      <td>...</td>\n",
       "      <td>624650.000000</td>\n",
       "      <td>624650.000000</td>\n",
       "      <td>624650.000000</td>\n",
       "      <td>500930</td>\n",
       "      <td>624604</td>\n",
       "      <td>624605.000000</td>\n",
       "      <td>618278</td>\n",
       "      <td>240476</td>\n",
       "      <td>244975</td>\n",
       "      <td>0.0</td>\n",
       "    </tr>\n",
       "    <tr>\n",
       "      <th>unique</th>\n",
       "      <td>624650</td>\n",
       "      <td>4</td>\n",
       "      <td>4</td>\n",
       "      <td>71170</td>\n",
       "      <td>9441</td>\n",
       "      <td>64378</td>\n",
       "      <td>5123</td>\n",
       "      <td>57</td>\n",
       "      <td>10962</td>\n",
       "      <td>5</td>\n",
       "      <td>...</td>\n",
       "      <td>NaN</td>\n",
       "      <td>NaN</td>\n",
       "      <td>NaN</td>\n",
       "      <td>4</td>\n",
       "      <td>5</td>\n",
       "      <td>NaN</td>\n",
       "      <td>3083</td>\n",
       "      <td>2</td>\n",
       "      <td>2</td>\n",
       "      <td>NaN</td>\n",
       "    </tr>\n",
       "    <tr>\n",
       "      <th>top</th>\n",
       "      <td>I-200-17215-187678</td>\n",
       "      <td>H-1B</td>\n",
       "      <td>CERTIFIED</td>\n",
       "      <td>INFOSYS LIMITED</td>\n",
       "      <td>MASTECH DIGITAL TECHNOLOGIES, INC.</td>\n",
       "      <td>6100 TENNYSON PARKWAY</td>\n",
       "      <td>PLANO</td>\n",
       "      <td>CA</td>\n",
       "      <td>75024</td>\n",
       "      <td>UNITED STATES OF AMERICA</td>\n",
       "      <td>...</td>\n",
       "      <td>NaN</td>\n",
       "      <td>NaN</td>\n",
       "      <td>NaN</td>\n",
       "      <td>Level I</td>\n",
       "      <td>OES</td>\n",
       "      <td>NaN</td>\n",
       "      <td>OFLC ONLINE DATA CENTER</td>\n",
       "      <td>Y</td>\n",
       "      <td>Y</td>\n",
       "      <td>NaN</td>\n",
       "    </tr>\n",
       "    <tr>\n",
       "      <th>freq</th>\n",
       "      <td>1</td>\n",
       "      <td>610304</td>\n",
       "      <td>545694</td>\n",
       "      <td>20587</td>\n",
       "      <td>837</td>\n",
       "      <td>20748</td>\n",
       "      <td>34320</td>\n",
       "      <td>105701</td>\n",
       "      <td>22815</td>\n",
       "      <td>528132</td>\n",
       "      <td>...</td>\n",
       "      <td>NaN</td>\n",
       "      <td>NaN</td>\n",
       "      <td>NaN</td>\n",
       "      <td>221848</td>\n",
       "      <td>504806</td>\n",
       "      <td>NaN</td>\n",
       "      <td>580142</td>\n",
       "      <td>231915</td>\n",
       "      <td>233715</td>\n",
       "      <td>NaN</td>\n",
       "    </tr>\n",
       "    <tr>\n",
       "      <th>mean</th>\n",
       "      <td>NaN</td>\n",
       "      <td>NaN</td>\n",
       "      <td>NaN</td>\n",
       "      <td>NaN</td>\n",
       "      <td>NaN</td>\n",
       "      <td>NaN</td>\n",
       "      <td>NaN</td>\n",
       "      <td>NaN</td>\n",
       "      <td>NaN</td>\n",
       "      <td>NaN</td>\n",
       "      <td>...</td>\n",
       "      <td>0.008979</td>\n",
       "      <td>0.259485</td>\n",
       "      <td>0.332703</td>\n",
       "      <td>NaN</td>\n",
       "      <td>NaN</td>\n",
       "      <td>2016.167059</td>\n",
       "      <td>NaN</td>\n",
       "      <td>NaN</td>\n",
       "      <td>NaN</td>\n",
       "      <td>NaN</td>\n",
       "    </tr>\n",
       "    <tr>\n",
       "      <th>std</th>\n",
       "      <td>NaN</td>\n",
       "      <td>NaN</td>\n",
       "      <td>NaN</td>\n",
       "      <td>NaN</td>\n",
       "      <td>NaN</td>\n",
       "      <td>NaN</td>\n",
       "      <td>NaN</td>\n",
       "      <td>NaN</td>\n",
       "      <td>NaN</td>\n",
       "      <td>NaN</td>\n",
       "      <td>...</td>\n",
       "      <td>0.157690</td>\n",
       "      <td>1.095563</td>\n",
       "      <td>1.418231</td>\n",
       "      <td>NaN</td>\n",
       "      <td>NaN</td>\n",
       "      <td>5.128159</td>\n",
       "      <td>NaN</td>\n",
       "      <td>NaN</td>\n",
       "      <td>NaN</td>\n",
       "      <td>NaN</td>\n",
       "    </tr>\n",
       "    <tr>\n",
       "      <th>min</th>\n",
       "      <td>NaN</td>\n",
       "      <td>NaN</td>\n",
       "      <td>NaN</td>\n",
       "      <td>NaN</td>\n",
       "      <td>NaN</td>\n",
       "      <td>NaN</td>\n",
       "      <td>NaN</td>\n",
       "      <td>NaN</td>\n",
       "      <td>NaN</td>\n",
       "      <td>NaN</td>\n",
       "      <td>...</td>\n",
       "      <td>0.000000</td>\n",
       "      <td>0.000000</td>\n",
       "      <td>0.000000</td>\n",
       "      <td>NaN</td>\n",
       "      <td>NaN</td>\n",
       "      <td>0.000000</td>\n",
       "      <td>NaN</td>\n",
       "      <td>NaN</td>\n",
       "      <td>NaN</td>\n",
       "      <td>NaN</td>\n",
       "    </tr>\n",
       "    <tr>\n",
       "      <th>25%</th>\n",
       "      <td>NaN</td>\n",
       "      <td>NaN</td>\n",
       "      <td>NaN</td>\n",
       "      <td>NaN</td>\n",
       "      <td>NaN</td>\n",
       "      <td>NaN</td>\n",
       "      <td>NaN</td>\n",
       "      <td>NaN</td>\n",
       "      <td>NaN</td>\n",
       "      <td>NaN</td>\n",
       "      <td>...</td>\n",
       "      <td>0.000000</td>\n",
       "      <td>0.000000</td>\n",
       "      <td>0.000000</td>\n",
       "      <td>NaN</td>\n",
       "      <td>NaN</td>\n",
       "      <td>2016.000000</td>\n",
       "      <td>NaN</td>\n",
       "      <td>NaN</td>\n",
       "      <td>NaN</td>\n",
       "      <td>NaN</td>\n",
       "    </tr>\n",
       "    <tr>\n",
       "      <th>50%</th>\n",
       "      <td>NaN</td>\n",
       "      <td>NaN</td>\n",
       "      <td>NaN</td>\n",
       "      <td>NaN</td>\n",
       "      <td>NaN</td>\n",
       "      <td>NaN</td>\n",
       "      <td>NaN</td>\n",
       "      <td>NaN</td>\n",
       "      <td>NaN</td>\n",
       "      <td>NaN</td>\n",
       "      <td>...</td>\n",
       "      <td>0.000000</td>\n",
       "      <td>0.000000</td>\n",
       "      <td>0.000000</td>\n",
       "      <td>NaN</td>\n",
       "      <td>NaN</td>\n",
       "      <td>2016.000000</td>\n",
       "      <td>NaN</td>\n",
       "      <td>NaN</td>\n",
       "      <td>NaN</td>\n",
       "      <td>NaN</td>\n",
       "    </tr>\n",
       "    <tr>\n",
       "      <th>75%</th>\n",
       "      <td>NaN</td>\n",
       "      <td>NaN</td>\n",
       "      <td>NaN</td>\n",
       "      <td>NaN</td>\n",
       "      <td>NaN</td>\n",
       "      <td>NaN</td>\n",
       "      <td>NaN</td>\n",
       "      <td>NaN</td>\n",
       "      <td>NaN</td>\n",
       "      <td>NaN</td>\n",
       "      <td>...</td>\n",
       "      <td>0.000000</td>\n",
       "      <td>0.000000</td>\n",
       "      <td>0.000000</td>\n",
       "      <td>NaN</td>\n",
       "      <td>NaN</td>\n",
       "      <td>2017.000000</td>\n",
       "      <td>NaN</td>\n",
       "      <td>NaN</td>\n",
       "      <td>NaN</td>\n",
       "      <td>NaN</td>\n",
       "    </tr>\n",
       "    <tr>\n",
       "      <th>max</th>\n",
       "      <td>NaN</td>\n",
       "      <td>NaN</td>\n",
       "      <td>NaN</td>\n",
       "      <td>NaN</td>\n",
       "      <td>NaN</td>\n",
       "      <td>NaN</td>\n",
       "      <td>NaN</td>\n",
       "      <td>NaN</td>\n",
       "      <td>NaN</td>\n",
       "      <td>NaN</td>\n",
       "      <td>...</td>\n",
       "      <td>50.000000</td>\n",
       "      <td>150.000000</td>\n",
       "      <td>50.000000</td>\n",
       "      <td>NaN</td>\n",
       "      <td>NaN</td>\n",
       "      <td>2017.000000</td>\n",
       "      <td>NaN</td>\n",
       "      <td>NaN</td>\n",
       "      <td>NaN</td>\n",
       "      <td>NaN</td>\n",
       "    </tr>\n",
       "  </tbody>\n",
       "</table>\n",
       "<p>11 rows × 52 columns</p>\n",
       "</div>"
      ],
      "text/plain": [
       "               case_number visa_class case_status    employer_name  \\\n",
       "count               624650     624650      624650           624594   \n",
       "unique              624650          4           4            71170   \n",
       "top     I-200-17215-187678       H-1B   CERTIFIED  INFOSYS LIMITED   \n",
       "freq                     1     610304      545694            20587   \n",
       "mean                   NaN        NaN         NaN              NaN   \n",
       "std                    NaN        NaN         NaN              NaN   \n",
       "min                    NaN        NaN         NaN              NaN   \n",
       "25%                    NaN        NaN         NaN              NaN   \n",
       "50%                    NaN        NaN         NaN              NaN   \n",
       "75%                    NaN        NaN         NaN              NaN   \n",
       "max                    NaN        NaN         NaN              NaN   \n",
       "\n",
       "                     employer_business_dba       employer_address  \\\n",
       "count                                43270                 624643   \n",
       "unique                                9441                  64378   \n",
       "top     MASTECH DIGITAL TECHNOLOGIES, INC.  6100 TENNYSON PARKWAY   \n",
       "freq                                   837                  20748   \n",
       "mean                                   NaN                    NaN   \n",
       "std                                    NaN                    NaN   \n",
       "min                                    NaN                    NaN   \n",
       "25%                                    NaN                    NaN   \n",
       "50%                                    NaN                    NaN   \n",
       "75%                                    NaN                    NaN   \n",
       "max                                    NaN                    NaN   \n",
       "\n",
       "       employer_city employer_state employer_postal_code  \\\n",
       "count         624635         624632               624632   \n",
       "unique          5123             57                10962   \n",
       "top            PLANO             CA                75024   \n",
       "freq           34320         105701                22815   \n",
       "mean             NaN            NaN                  NaN   \n",
       "std              NaN            NaN                  NaN   \n",
       "min              NaN            NaN                  NaN   \n",
       "25%              NaN            NaN                  NaN   \n",
       "50%              NaN            NaN                  NaN   \n",
       "75%              NaN            NaN                  NaN   \n",
       "max              NaN            NaN                  NaN   \n",
       "\n",
       "                employer_country  ... new_concurrent_employment  \\\n",
       "count                     528143  ...             624650.000000   \n",
       "unique                         5  ...                       NaN   \n",
       "top     UNITED STATES OF AMERICA  ...                       NaN   \n",
       "freq                      528132  ...                       NaN   \n",
       "mean                         NaN  ...                  0.008979   \n",
       "std                          NaN  ...                  0.157690   \n",
       "min                          NaN  ...                  0.000000   \n",
       "25%                          NaN  ...                  0.000000   \n",
       "50%                          NaN  ...                  0.000000   \n",
       "75%                          NaN  ...                  0.000000   \n",
       "max                          NaN  ...                 50.000000   \n",
       "\n",
       "       change_employer  amended_petition  pw_wage_level pw_source  \\\n",
       "count    624650.000000     624650.000000         500930    624604   \n",
       "unique             NaN               NaN              4         5   \n",
       "top                NaN               NaN        Level I       OES   \n",
       "freq               NaN               NaN         221848    504806   \n",
       "mean          0.259485          0.332703            NaN       NaN   \n",
       "std           1.095563          1.418231            NaN       NaN   \n",
       "min           0.000000          0.000000            NaN       NaN   \n",
       "25%           0.000000          0.000000            NaN       NaN   \n",
       "50%           0.000000          0.000000            NaN       NaN   \n",
       "75%           0.000000          0.000000            NaN       NaN   \n",
       "max         150.000000         50.000000            NaN       NaN   \n",
       "\n",
       "       pw_source_year          pw_source_other  support_h1b labor_con_agree  \\\n",
       "count   624605.000000                   618278       240476          244975   \n",
       "unique            NaN                     3083            2               2   \n",
       "top               NaN  OFLC ONLINE DATA CENTER            Y               Y   \n",
       "freq              NaN                   580142       231915          233715   \n",
       "mean      2016.167059                      NaN          NaN             NaN   \n",
       "std          5.128159                      NaN          NaN             NaN   \n",
       "min          0.000000                      NaN          NaN             NaN   \n",
       "25%       2016.000000                      NaN          NaN             NaN   \n",
       "50%       2016.000000                      NaN          NaN             NaN   \n",
       "75%       2017.000000                      NaN          NaN             NaN   \n",
       "max       2017.000000                      NaN          NaN             NaN   \n",
       "\n",
       "       public_disclosure_location  \n",
       "count                         0.0  \n",
       "unique                        NaN  \n",
       "top                           NaN  \n",
       "freq                          NaN  \n",
       "mean                          NaN  \n",
       "std                           NaN  \n",
       "min                           NaN  \n",
       "25%                           NaN  \n",
       "50%                           NaN  \n",
       "75%                           NaN  \n",
       "max                           NaN  \n",
       "\n",
       "[11 rows x 52 columns]"
      ]
     },
     "execution_count": 27,
     "metadata": {},
     "output_type": "execute_result"
    }
   ],
   "source": [
    "dataset.describe(include = 'all')"
   ]
  },
  {
   "cell_type": "code",
   "execution_count": 28,
   "id": "outdoor-camera",
   "metadata": {},
   "outputs": [
    {
     "data": {
      "text/plain": [
       "113"
      ]
     },
     "execution_count": 28,
     "metadata": {},
     "output_type": "execute_result"
    }
   ],
   "source": [
    "dataset['worksite_county'].value_counts()['MANHATTAN']"
   ]
  },
  {
   "cell_type": "code",
   "execution_count": 40,
   "id": "coupled-billy",
   "metadata": {},
   "outputs": [
    {
     "data": {
      "text/plain": [
       "MIDDLESEX         1541\n",
       "EAST BRUNSWICK     635\n",
       "CALIFORNIA         382\n",
       "USA                276\n",
       "COOK               262\n",
       "ALAMEDA            256\n",
       "LOUDOUN            185\n",
       "MICHIGAN           158\n",
       "WASHINGTON         113\n",
       "NEW JERSEY          88\n",
       "Name: employer_province, dtype: int64"
      ]
     },
     "execution_count": 40,
     "metadata": {},
     "output_type": "execute_result"
    }
   ],
   "source": [
    "dataset['employer_province'].value_counts().head(10)"
   ]
  },
  {
   "cell_type": "code",
   "execution_count": null,
   "id": "isolated-mixture",
   "metadata": {},
   "outputs": [],
   "source": [
    "#going to use worksite county for manhattan requirement \n",
    "#going to use worksite city for SF requirement \n",
    "#going to use prevailing wage for wage requirement\n",
    "#going to use visa class for h-1b requirement "
   ]
  },
  {
   "cell_type": "code",
   "execution_count": 114,
   "id": "brown-bibliography",
   "metadata": {},
   "outputs": [],
   "source": [
    "manhattan_data = dataset.loc[(dataset['worksite_county'] == 'MANHATTAN') & (dataset['visa_class'] == 'H-1B')]"
   ]
  },
  {
   "cell_type": "code",
   "execution_count": 115,
   "id": "afraid-recognition",
   "metadata": {},
   "outputs": [
    {
     "data": {
      "text/plain": [
       "64"
      ]
     },
     "execution_count": 115,
     "metadata": {},
     "output_type": "execute_result"
    }
   ],
   "source": [
    "len(manhattan_data)"
   ]
  },
  {
   "cell_type": "code",
   "execution_count": 116,
   "id": "forbidden-money",
   "metadata": {},
   "outputs": [
    {
     "data": {
      "text/html": [
       "<div>\n",
       "<style scoped>\n",
       "    .dataframe tbody tr th:only-of-type {\n",
       "        vertical-align: middle;\n",
       "    }\n",
       "\n",
       "    .dataframe tbody tr th {\n",
       "        vertical-align: top;\n",
       "    }\n",
       "\n",
       "    .dataframe thead th {\n",
       "        text-align: right;\n",
       "    }\n",
       "</style>\n",
       "<table border=\"1\" class=\"dataframe\">\n",
       "  <thead>\n",
       "    <tr style=\"text-align: right;\">\n",
       "      <th></th>\n",
       "      <th>case_number</th>\n",
       "      <th>visa_class</th>\n",
       "      <th>case_status</th>\n",
       "      <th>employer_name</th>\n",
       "      <th>employer_business_dba</th>\n",
       "      <th>employer_address</th>\n",
       "      <th>employer_city</th>\n",
       "      <th>employer_state</th>\n",
       "      <th>employer_postal_code</th>\n",
       "      <th>employer_country</th>\n",
       "      <th>...</th>\n",
       "      <th>new_concurrent_employment</th>\n",
       "      <th>change_employer</th>\n",
       "      <th>amended_petition</th>\n",
       "      <th>pw_wage_level</th>\n",
       "      <th>pw_source</th>\n",
       "      <th>pw_source_year</th>\n",
       "      <th>pw_source_other</th>\n",
       "      <th>support_h1b</th>\n",
       "      <th>labor_con_agree</th>\n",
       "      <th>public_disclosure_location</th>\n",
       "    </tr>\n",
       "  </thead>\n",
       "  <tbody>\n",
       "    <tr>\n",
       "      <th>8235</th>\n",
       "      <td>I-200-17065-479178</td>\n",
       "      <td>H-1B</td>\n",
       "      <td>DENIED</td>\n",
       "      <td>PAZ COLLECTIVE INC</td>\n",
       "      <td>NaN</td>\n",
       "      <td>37 W 39TH ST</td>\n",
       "      <td>NEW YORK</td>\n",
       "      <td>NY</td>\n",
       "      <td>10018</td>\n",
       "      <td>UNITED STATES OF AMERICA</td>\n",
       "      <td>...</td>\n",
       "      <td>0.0</td>\n",
       "      <td>0.0</td>\n",
       "      <td>0.0</td>\n",
       "      <td>NaN</td>\n",
       "      <td>OES</td>\n",
       "      <td>2015.0</td>\n",
       "      <td>NaN</td>\n",
       "      <td>NaN</td>\n",
       "      <td>Y</td>\n",
       "      <td>NaN</td>\n",
       "    </tr>\n",
       "    <tr>\n",
       "      <th>21822</th>\n",
       "      <td>I-200-17065-972398</td>\n",
       "      <td>H-1B</td>\n",
       "      <td>CERTIFIED</td>\n",
       "      <td>ZONI LANGUAGE CENTERS</td>\n",
       "      <td>ZONI LANGUAGE CENTERS</td>\n",
       "      <td>22 WEST 34TH STREET</td>\n",
       "      <td>NEW YORK</td>\n",
       "      <td>NY</td>\n",
       "      <td>10001</td>\n",
       "      <td>UNITED STATES OF AMERICA</td>\n",
       "      <td>...</td>\n",
       "      <td>0.0</td>\n",
       "      <td>0.0</td>\n",
       "      <td>0.0</td>\n",
       "      <td>Level I</td>\n",
       "      <td>OES</td>\n",
       "      <td>2017.0</td>\n",
       "      <td>OFLC ONLINE DATA CENTER</td>\n",
       "      <td>NaN</td>\n",
       "      <td>Y</td>\n",
       "      <td>NaN</td>\n",
       "    </tr>\n",
       "    <tr>\n",
       "      <th>23187</th>\n",
       "      <td>I-200-17065-687473</td>\n",
       "      <td>H-1B</td>\n",
       "      <td>CERTIFIED</td>\n",
       "      <td>ZONI LANGUAGE CENTERS</td>\n",
       "      <td>ZONI LANGUAGE CENTERS</td>\n",
       "      <td>22 WEST 34TH STREET</td>\n",
       "      <td>NEW YORK</td>\n",
       "      <td>NY</td>\n",
       "      <td>10001</td>\n",
       "      <td>UNITED STATES OF AMERICA</td>\n",
       "      <td>...</td>\n",
       "      <td>0.0</td>\n",
       "      <td>0.0</td>\n",
       "      <td>0.0</td>\n",
       "      <td>Level I</td>\n",
       "      <td>OES</td>\n",
       "      <td>2017.0</td>\n",
       "      <td>OFLC ONLINE DATA CENTER</td>\n",
       "      <td>NaN</td>\n",
       "      <td>Y</td>\n",
       "      <td>NaN</td>\n",
       "    </tr>\n",
       "    <tr>\n",
       "      <th>27116</th>\n",
       "      <td>I-200-17055-967104</td>\n",
       "      <td>H-1B</td>\n",
       "      <td>WITHDRAWN</td>\n",
       "      <td>GEMS THE EDUCATION PARTNERS INC.</td>\n",
       "      <td>NaN</td>\n",
       "      <td>70 W 40TH STREET</td>\n",
       "      <td>NEW YORK</td>\n",
       "      <td>NY</td>\n",
       "      <td>10018</td>\n",
       "      <td>UNITED STATES OF AMERICA</td>\n",
       "      <td>...</td>\n",
       "      <td>0.0</td>\n",
       "      <td>0.0</td>\n",
       "      <td>0.0</td>\n",
       "      <td>Level I</td>\n",
       "      <td>OES</td>\n",
       "      <td>2017.0</td>\n",
       "      <td>OFLC ONLINE DATA CENTER</td>\n",
       "      <td>NaN</td>\n",
       "      <td>NaN</td>\n",
       "      <td>NaN</td>\n",
       "    </tr>\n",
       "    <tr>\n",
       "      <th>47146</th>\n",
       "      <td>I-200-16285-191526</td>\n",
       "      <td>H-1B</td>\n",
       "      <td>DENIED</td>\n",
       "      <td>1199 SEIU UNITED HEALTHCARE WORKERS EAST</td>\n",
       "      <td>NaN</td>\n",
       "      <td>310 WEST 43RD ST</td>\n",
       "      <td>NEW YORK</td>\n",
       "      <td>NY</td>\n",
       "      <td>10036</td>\n",
       "      <td>UNITED STATES OF AMERICA</td>\n",
       "      <td>...</td>\n",
       "      <td>0.0</td>\n",
       "      <td>0.0</td>\n",
       "      <td>0.0</td>\n",
       "      <td>Level II</td>\n",
       "      <td>OES</td>\n",
       "      <td>2016.0</td>\n",
       "      <td>NaN</td>\n",
       "      <td>NaN</td>\n",
       "      <td>Y</td>\n",
       "      <td>NaN</td>\n",
       "    </tr>\n",
       "  </tbody>\n",
       "</table>\n",
       "<p>5 rows × 52 columns</p>\n",
       "</div>"
      ],
      "text/plain": [
       "              case_number visa_class case_status  \\\n",
       "8235   I-200-17065-479178       H-1B      DENIED   \n",
       "21822  I-200-17065-972398       H-1B   CERTIFIED   \n",
       "23187  I-200-17065-687473       H-1B   CERTIFIED   \n",
       "27116  I-200-17055-967104       H-1B   WITHDRAWN   \n",
       "47146  I-200-16285-191526       H-1B      DENIED   \n",
       "\n",
       "                                  employer_name  employer_business_dba  \\\n",
       "8235                         PAZ COLLECTIVE INC                    NaN   \n",
       "21822                     ZONI LANGUAGE CENTERS  ZONI LANGUAGE CENTERS   \n",
       "23187                     ZONI LANGUAGE CENTERS  ZONI LANGUAGE CENTERS   \n",
       "27116          GEMS THE EDUCATION PARTNERS INC.                    NaN   \n",
       "47146  1199 SEIU UNITED HEALTHCARE WORKERS EAST                    NaN   \n",
       "\n",
       "          employer_address employer_city employer_state employer_postal_code  \\\n",
       "8235          37 W 39TH ST      NEW YORK             NY                10018   \n",
       "21822  22 WEST 34TH STREET      NEW YORK             NY                10001   \n",
       "23187  22 WEST 34TH STREET      NEW YORK             NY                10001   \n",
       "27116     70 W 40TH STREET      NEW YORK             NY                10018   \n",
       "47146     310 WEST 43RD ST      NEW YORK             NY                10036   \n",
       "\n",
       "               employer_country  ... new_concurrent_employment  \\\n",
       "8235   UNITED STATES OF AMERICA  ...                       0.0   \n",
       "21822  UNITED STATES OF AMERICA  ...                       0.0   \n",
       "23187  UNITED STATES OF AMERICA  ...                       0.0   \n",
       "27116  UNITED STATES OF AMERICA  ...                       0.0   \n",
       "47146  UNITED STATES OF AMERICA  ...                       0.0   \n",
       "\n",
       "      change_employer amended_petition pw_wage_level pw_source pw_source_year  \\\n",
       "8235              0.0              0.0           NaN       OES         2015.0   \n",
       "21822             0.0              0.0       Level I       OES         2017.0   \n",
       "23187             0.0              0.0       Level I       OES         2017.0   \n",
       "27116             0.0              0.0       Level I       OES         2017.0   \n",
       "47146             0.0              0.0      Level II       OES         2016.0   \n",
       "\n",
       "               pw_source_other  support_h1b labor_con_agree  \\\n",
       "8235                       NaN          NaN               Y   \n",
       "21822  OFLC ONLINE DATA CENTER          NaN               Y   \n",
       "23187  OFLC ONLINE DATA CENTER          NaN               Y   \n",
       "27116  OFLC ONLINE DATA CENTER          NaN             NaN   \n",
       "47146                      NaN          NaN               Y   \n",
       "\n",
       "      public_disclosure_location  \n",
       "8235                         NaN  \n",
       "21822                        NaN  \n",
       "23187                        NaN  \n",
       "27116                        NaN  \n",
       "47146                        NaN  \n",
       "\n",
       "[5 rows x 52 columns]"
      ]
     },
     "execution_count": 116,
     "metadata": {},
     "output_type": "execute_result"
    }
   ],
   "source": [
    "manhattan_data.head()"
   ]
  },
  {
   "cell_type": "code",
   "execution_count": 117,
   "id": "virgin-topic",
   "metadata": {},
   "outputs": [],
   "source": [
    "sf_data = dataset.loc[(dataset['worksite_city'] == 'SAN FRANCISCO') & (dataset['visa_class'] == 'H-1B') & \n",
    "                     (dataset['worksite_state'] == 'CA')]"
   ]
  },
  {
   "cell_type": "code",
   "execution_count": 118,
   "id": "tropical-warning",
   "metadata": {},
   "outputs": [
    {
     "data": {
      "text/plain": [
       "15095"
      ]
     },
     "execution_count": 118,
     "metadata": {},
     "output_type": "execute_result"
    }
   ],
   "source": [
    "len(sf_data)"
   ]
  },
  {
   "cell_type": "code",
   "execution_count": 119,
   "id": "external-corruption",
   "metadata": {},
   "outputs": [
    {
     "data": {
      "text/plain": [
       "CA    15095\n",
       "Name: worksite_state, dtype: int64"
      ]
     },
     "execution_count": 119,
     "metadata": {},
     "output_type": "execute_result"
    }
   ],
   "source": [
    "sf_data['worksite_state'].value_counts()"
   ]
  },
  {
   "cell_type": "code",
   "execution_count": 120,
   "id": "documentary-madison",
   "metadata": {},
   "outputs": [
    {
     "data": {
      "text/html": [
       "<div>\n",
       "<style scoped>\n",
       "    .dataframe tbody tr th:only-of-type {\n",
       "        vertical-align: middle;\n",
       "    }\n",
       "\n",
       "    .dataframe tbody tr th {\n",
       "        vertical-align: top;\n",
       "    }\n",
       "\n",
       "    .dataframe thead th {\n",
       "        text-align: right;\n",
       "    }\n",
       "</style>\n",
       "<table border=\"1\" class=\"dataframe\">\n",
       "  <thead>\n",
       "    <tr style=\"text-align: right;\">\n",
       "      <th></th>\n",
       "      <th>case_number</th>\n",
       "      <th>visa_class</th>\n",
       "      <th>case_status</th>\n",
       "      <th>employer_name</th>\n",
       "      <th>employer_business_dba</th>\n",
       "      <th>employer_address</th>\n",
       "      <th>employer_city</th>\n",
       "      <th>employer_state</th>\n",
       "      <th>employer_postal_code</th>\n",
       "      <th>employer_country</th>\n",
       "      <th>...</th>\n",
       "      <th>new_concurrent_employment</th>\n",
       "      <th>change_employer</th>\n",
       "      <th>amended_petition</th>\n",
       "      <th>pw_wage_level</th>\n",
       "      <th>pw_source</th>\n",
       "      <th>pw_source_year</th>\n",
       "      <th>pw_source_other</th>\n",
       "      <th>support_h1b</th>\n",
       "      <th>labor_con_agree</th>\n",
       "      <th>public_disclosure_location</th>\n",
       "    </tr>\n",
       "  </thead>\n",
       "  <tbody>\n",
       "    <tr>\n",
       "      <th>15</th>\n",
       "      <td>I-200-17060-073256</td>\n",
       "      <td>H-1B</td>\n",
       "      <td>CERTIFIED</td>\n",
       "      <td>INFOSTRETCH CORPORATION</td>\n",
       "      <td>NaN</td>\n",
       "      <td>3200 PATRICK HENRY DRIVE, SUITE 250</td>\n",
       "      <td>SANTA CLARA</td>\n",
       "      <td>CA</td>\n",
       "      <td>95054</td>\n",
       "      <td>UNITED STATES OF AMERICA</td>\n",
       "      <td>...</td>\n",
       "      <td>0.0</td>\n",
       "      <td>1.0</td>\n",
       "      <td>0.0</td>\n",
       "      <td>Level II</td>\n",
       "      <td>OES</td>\n",
       "      <td>2016.0</td>\n",
       "      <td>OFLC ONLINE DATA CENTER</td>\n",
       "      <td>Y</td>\n",
       "      <td>NaN</td>\n",
       "      <td>NaN</td>\n",
       "    </tr>\n",
       "    <tr>\n",
       "      <th>49</th>\n",
       "      <td>I-200-17060-084474</td>\n",
       "      <td>H-1B</td>\n",
       "      <td>CERTIFIED</td>\n",
       "      <td>NISUM TECHNOLOGIES INC.</td>\n",
       "      <td>NaN</td>\n",
       "      <td>500 S. KRAEMER BOULEVARD</td>\n",
       "      <td>BREA</td>\n",
       "      <td>CA</td>\n",
       "      <td>92821</td>\n",
       "      <td>UNITED STATES OF AMERICA</td>\n",
       "      <td>...</td>\n",
       "      <td>0.0</td>\n",
       "      <td>0.0</td>\n",
       "      <td>0.0</td>\n",
       "      <td>Level II</td>\n",
       "      <td>OES</td>\n",
       "      <td>2016.0</td>\n",
       "      <td>OFLC ONLINE DATA CENTER</td>\n",
       "      <td>Y</td>\n",
       "      <td>NaN</td>\n",
       "      <td>NaN</td>\n",
       "    </tr>\n",
       "    <tr>\n",
       "      <th>89</th>\n",
       "      <td>I-200-17060-197654</td>\n",
       "      <td>H-1B</td>\n",
       "      <td>CERTIFIED</td>\n",
       "      <td>MACY'S.COM, LLC</td>\n",
       "      <td>NaN</td>\n",
       "      <td>680 FOLSOM STREET</td>\n",
       "      <td>SAN FRANCISCO</td>\n",
       "      <td>CA</td>\n",
       "      <td>94107</td>\n",
       "      <td>UNITED STATES OF AMERICA</td>\n",
       "      <td>...</td>\n",
       "      <td>0.0</td>\n",
       "      <td>0.0</td>\n",
       "      <td>0.0</td>\n",
       "      <td>NaN</td>\n",
       "      <td>Other</td>\n",
       "      <td>2016.0</td>\n",
       "      <td>WILLIS TOWERS WATSON PROFESSIONAL (TECH &amp; OPS)...</td>\n",
       "      <td>NaN</td>\n",
       "      <td>NaN</td>\n",
       "      <td>NaN</td>\n",
       "    </tr>\n",
       "    <tr>\n",
       "      <th>96</th>\n",
       "      <td>I-200-17060-222611</td>\n",
       "      <td>H-1B</td>\n",
       "      <td>CERTIFIED</td>\n",
       "      <td>CLOUDFLARE, INC.</td>\n",
       "      <td>NaN</td>\n",
       "      <td>101 TOWNSEND STREET</td>\n",
       "      <td>SAN FRANCISCO</td>\n",
       "      <td>CA</td>\n",
       "      <td>94107</td>\n",
       "      <td>UNITED STATES OF AMERICA</td>\n",
       "      <td>...</td>\n",
       "      <td>0.0</td>\n",
       "      <td>0.0</td>\n",
       "      <td>0.0</td>\n",
       "      <td>Level IV</td>\n",
       "      <td>OES</td>\n",
       "      <td>2016.0</td>\n",
       "      <td>OFLC ONLINE DATA CENTER</td>\n",
       "      <td>NaN</td>\n",
       "      <td>NaN</td>\n",
       "      <td>NaN</td>\n",
       "    </tr>\n",
       "    <tr>\n",
       "      <th>98</th>\n",
       "      <td>I-200-17060-050056</td>\n",
       "      <td>H-1B</td>\n",
       "      <td>CERTIFIED</td>\n",
       "      <td>CLOUDFLARE, INC.</td>\n",
       "      <td>NaN</td>\n",
       "      <td>101 TOWNSEND STREET</td>\n",
       "      <td>SAN FRANCISCO</td>\n",
       "      <td>CA</td>\n",
       "      <td>94107</td>\n",
       "      <td>UNITED STATES OF AMERICA</td>\n",
       "      <td>...</td>\n",
       "      <td>0.0</td>\n",
       "      <td>0.0</td>\n",
       "      <td>0.0</td>\n",
       "      <td>Level II</td>\n",
       "      <td>OES</td>\n",
       "      <td>2016.0</td>\n",
       "      <td>OFLC ONLINE DATA CENTER</td>\n",
       "      <td>NaN</td>\n",
       "      <td>NaN</td>\n",
       "      <td>NaN</td>\n",
       "    </tr>\n",
       "  </tbody>\n",
       "</table>\n",
       "<p>5 rows × 52 columns</p>\n",
       "</div>"
      ],
      "text/plain": [
       "           case_number visa_class case_status            employer_name  \\\n",
       "15  I-200-17060-073256       H-1B   CERTIFIED  INFOSTRETCH CORPORATION   \n",
       "49  I-200-17060-084474       H-1B   CERTIFIED  NISUM TECHNOLOGIES INC.   \n",
       "89  I-200-17060-197654       H-1B   CERTIFIED          MACY'S.COM, LLC   \n",
       "96  I-200-17060-222611       H-1B   CERTIFIED         CLOUDFLARE, INC.   \n",
       "98  I-200-17060-050056       H-1B   CERTIFIED         CLOUDFLARE, INC.   \n",
       "\n",
       "   employer_business_dba                     employer_address  employer_city  \\\n",
       "15                   NaN  3200 PATRICK HENRY DRIVE, SUITE 250    SANTA CLARA   \n",
       "49                   NaN             500 S. KRAEMER BOULEVARD           BREA   \n",
       "89                   NaN                    680 FOLSOM STREET  SAN FRANCISCO   \n",
       "96                   NaN                  101 TOWNSEND STREET  SAN FRANCISCO   \n",
       "98                   NaN                  101 TOWNSEND STREET  SAN FRANCISCO   \n",
       "\n",
       "   employer_state employer_postal_code          employer_country  ...  \\\n",
       "15             CA                95054  UNITED STATES OF AMERICA  ...   \n",
       "49             CA                92821  UNITED STATES OF AMERICA  ...   \n",
       "89             CA                94107  UNITED STATES OF AMERICA  ...   \n",
       "96             CA                94107  UNITED STATES OF AMERICA  ...   \n",
       "98             CA                94107  UNITED STATES OF AMERICA  ...   \n",
       "\n",
       "   new_concurrent_employment change_employer amended_petition pw_wage_level  \\\n",
       "15                       0.0             1.0              0.0      Level II   \n",
       "49                       0.0             0.0              0.0      Level II   \n",
       "89                       0.0             0.0              0.0           NaN   \n",
       "96                       0.0             0.0              0.0      Level IV   \n",
       "98                       0.0             0.0              0.0      Level II   \n",
       "\n",
       "   pw_source pw_source_year  \\\n",
       "15       OES         2016.0   \n",
       "49       OES         2016.0   \n",
       "89     Other         2016.0   \n",
       "96       OES         2016.0   \n",
       "98       OES         2016.0   \n",
       "\n",
       "                                      pw_source_other  support_h1b  \\\n",
       "15                            OFLC ONLINE DATA CENTER            Y   \n",
       "49                            OFLC ONLINE DATA CENTER            Y   \n",
       "89  WILLIS TOWERS WATSON PROFESSIONAL (TECH & OPS)...          NaN   \n",
       "96                            OFLC ONLINE DATA CENTER          NaN   \n",
       "98                            OFLC ONLINE DATA CENTER          NaN   \n",
       "\n",
       "   labor_con_agree public_disclosure_location  \n",
       "15             NaN                        NaN  \n",
       "49             NaN                        NaN  \n",
       "89             NaN                        NaN  \n",
       "96             NaN                        NaN  \n",
       "98             NaN                        NaN  \n",
       "\n",
       "[5 rows x 52 columns]"
      ]
     },
     "execution_count": 120,
     "metadata": {},
     "output_type": "execute_result"
    }
   ],
   "source": [
    "sf_data.head()"
   ]
  },
  {
   "cell_type": "code",
   "execution_count": 121,
   "id": "preliminary-hypothesis",
   "metadata": {},
   "outputs": [
    {
     "data": {
      "text/plain": [
       "60934.659374999996"
      ]
     },
     "execution_count": 121,
     "metadata": {},
     "output_type": "execute_result"
    }
   ],
   "source": [
    "#finding yearly average wage \n",
    "manhattan_data['prevailing_wage'].mean()"
   ]
  },
  {
   "cell_type": "code",
   "execution_count": 122,
   "id": "experimental-conference",
   "metadata": {},
   "outputs": [
    {
     "data": {
      "text/plain": [
       "97728.53141768798"
      ]
     },
     "execution_count": 122,
     "metadata": {},
     "output_type": "execute_result"
    }
   ],
   "source": [
    "#finding yearly average wage\n",
    "sf_data['prevailing_wage'].mean()"
   ]
  },
  {
   "cell_type": "markdown",
   "id": "computational-situation",
   "metadata": {},
   "source": [
    "## Wage in SF is significantly higher than in NY"
   ]
  },
  {
   "cell_type": "code",
   "execution_count": 123,
   "id": "inclusive-accommodation",
   "metadata": {},
   "outputs": [
    {
     "data": {
      "text/plain": [
       "Index(['case_number', 'visa_class', 'case_status', 'employer_name',\n",
       "       'employer_business_dba', 'employer_address', 'employer_city',\n",
       "       'employer_state', 'employer_postal_code', 'employer_country',\n",
       "       'employer_province', 'employer_phone', 'employer_phone_ext',\n",
       "       'naics_industry_code', 'soc_name', 'soc_code', 'job_title',\n",
       "       'total_workers', 'case_submitted', 'decision_date',\n",
       "       'employment_start_date', 'employment_end_date', 'full_time_position',\n",
       "       'prevailing_wage', 'pw_unit_of_pay', 'wage_rate_of_pay_from',\n",
       "       'wage_rate_of_pay_to', 'wage_unit_of_pay', 'worksite_city',\n",
       "       'worksite_county', 'worksite_state', 'worksite_postal_code',\n",
       "       'agent_attorney_name', 'agent_representing_employer',\n",
       "       'agent_attorney_city', 'agent_attorney_state', 'h1b_dependent',\n",
       "       'willful_violator', 'original_cert_date', 'new_employment',\n",
       "       'continued_employment', 'change_previous_employment',\n",
       "       'new_concurrent_employment', 'change_employer', 'amended_petition',\n",
       "       'pw_wage_level', 'pw_source', 'pw_source_year', 'pw_source_other',\n",
       "       'support_h1b', 'labor_con_agree', 'public_disclosure_location'],\n",
       "      dtype='object')"
      ]
     },
     "execution_count": 123,
     "metadata": {},
     "output_type": "execute_result"
    }
   ],
   "source": [
    "sf_data.columns"
   ]
  },
  {
   "cell_type": "code",
   "execution_count": 127,
   "id": "reliable-alcohol",
   "metadata": {},
   "outputs": [
    {
     "data": {
      "text/plain": [
       "case_status\n",
       "CERTIFIED              98249.933738\n",
       "CERTIFIED-WITHDRAWN    94036.198800\n",
       "DENIED                 89460.480625\n",
       "WITHDRAWN              96091.387512\n",
       "Name: prevailing_wage, dtype: float64"
      ]
     },
     "execution_count": 127,
     "metadata": {},
     "output_type": "execute_result"
    }
   ],
   "source": [
    "#seeing if whether a case study has been certified will affect wage levels\n",
    "\n",
    "sf_data.groupby('case_status')['prevailing_wage'].mean()"
   ]
  },
  {
   "cell_type": "code",
   "execution_count": 128,
   "id": "portable-smooth",
   "metadata": {},
   "outputs": [
    {
     "data": {
      "text/plain": [
       "case_status\n",
       "CERTIFIED              61379.441633\n",
       "CERTIFIED-WITHDRAWN    52530.500000\n",
       "DENIED                 60025.173333\n",
       "WITHDRAWN              61734.500000\n",
       "Name: prevailing_wage, dtype: float64"
      ]
     },
     "execution_count": 128,
     "metadata": {},
     "output_type": "execute_result"
    }
   ],
   "source": [
    "manhattan_data.groupby('case_status')['prevailing_wage'].mean()"
   ]
  },
  {
   "cell_type": "code",
   "execution_count": 126,
   "id": "wrong-warner",
   "metadata": {},
   "outputs": [
    {
     "data": {
      "text/plain": [
       "full_time_position\n",
       "N       35.413869\n",
       "Y    98828.045302\n",
       "Name: prevailing_wage, dtype: float64"
      ]
     },
     "execution_count": 126,
     "metadata": {},
     "output_type": "execute_result"
    }
   ],
   "source": [
    "#seeing if whether work roles are full time or part time have an impact \n",
    "\n",
    "sf_data.groupby('full_time_position')['prevailing_wage'].mean()"
   ]
  },
  {
   "cell_type": "code",
   "execution_count": 62,
   "id": "incoming-bride",
   "metadata": {},
   "outputs": [
    {
     "data": {
      "text/plain": [
       "full_time_position\n",
       "N       28.346000\n",
       "Y    66096.211356\n",
       "Name: prevailing_wage, dtype: float64"
      ]
     },
     "execution_count": 62,
     "metadata": {},
     "output_type": "execute_result"
    }
   ],
   "source": [
    "manhattan_data.groupby('full_time_position')['prevailing_wage'].mean()"
   ]
  },
  {
   "cell_type": "code",
   "execution_count": null,
   "id": "aggressive-melbourne",
   "metadata": {},
   "outputs": [],
   "source": [
    "'pw_unit_of_pay', 'wage_rate_of_pay_from',\n",
    "       'wage_rate_of_pay_to', 'wage_unit_of_pay'"
   ]
  },
  {
   "cell_type": "code",
   "execution_count": 63,
   "id": "insured-comparative",
   "metadata": {},
   "outputs": [
    {
     "data": {
      "text/plain": [
       "Year    57\n",
       "Hour     7\n",
       "Name: pw_unit_of_pay, dtype: int64"
      ]
     },
     "execution_count": 63,
     "metadata": {},
     "output_type": "execute_result"
    }
   ],
   "source": [
    "#seeing if unit of pay has anything to do with difference in between wage levels \n",
    "\n",
    "manhattan_data['pw_unit_of_pay'].value_counts()"
   ]
  },
  {
   "cell_type": "code",
   "execution_count": 64,
   "id": "italic-nowhere",
   "metadata": {},
   "outputs": [
    {
     "data": {
      "text/plain": [
       "pw_unit_of_pay\n",
       "Hour       30.028571\n",
       "Year    68414.175439\n",
       "Name: prevailing_wage, dtype: float64"
      ]
     },
     "execution_count": 64,
     "metadata": {},
     "output_type": "execute_result"
    }
   ],
   "source": [
    "manhattan_data.groupby('pw_unit_of_pay')['prevailing_wage'].mean()"
   ]
  },
  {
   "cell_type": "code",
   "execution_count": 65,
   "id": "sapphire-hostel",
   "metadata": {},
   "outputs": [
    {
     "data": {
      "text/plain": [
       "Year         14650\n",
       "Hour           468\n",
       "Bi-Weekly        2\n",
       "Month            1\n",
       "Name: pw_unit_of_pay, dtype: int64"
      ]
     },
     "execution_count": 65,
     "metadata": {},
     "output_type": "execute_result"
    }
   ],
   "source": [
    "sf_data['pw_unit_of_pay'].value_counts()"
   ]
  },
  {
   "cell_type": "code",
   "execution_count": 66,
   "id": "distant-fashion",
   "metadata": {},
   "outputs": [
    {
     "data": {
      "text/plain": [
       "pw_unit_of_pay\n",
       "Bi-Weekly      4556.000000\n",
       "Hour            177.327115\n",
       "Month         10370.500000\n",
       "Year         100841.613659\n",
       "Name: prevailing_wage, dtype: float64"
      ]
     },
     "execution_count": 66,
     "metadata": {},
     "output_type": "execute_result"
    }
   ],
   "source": [
    "sf_data.groupby('pw_unit_of_pay')['prevailing_wage'].mean()"
   ]
  },
  {
   "cell_type": "code",
   "execution_count": 67,
   "id": "labeled-holder",
   "metadata": {},
   "outputs": [
    {
     "data": {
      "text/plain": [
       "Y    2955\n",
       "N      72\n",
       "Name: support_h1b, dtype: int64"
      ]
     },
     "execution_count": 67,
     "metadata": {},
     "output_type": "execute_result"
    }
   ],
   "source": [
    "#could be that if an employer doesnt support h1b then the wages aren't as high \n",
    "\n",
    "sf_data['support_h1b'].value_counts()"
   ]
  },
  {
   "cell_type": "code",
   "execution_count": 68,
   "id": "adapted-travel",
   "metadata": {},
   "outputs": [
    {
     "data": {
      "text/plain": [
       "Y    5\n",
       "N    3\n",
       "Name: support_h1b, dtype: int64"
      ]
     },
     "execution_count": 68,
     "metadata": {},
     "output_type": "execute_result"
    }
   ],
   "source": [
    "manhattan_data['support_h1b'].value_counts()"
   ]
  },
  {
   "cell_type": "code",
   "execution_count": 69,
   "id": "billion-description",
   "metadata": {},
   "outputs": [
    {
     "data": {
      "text/plain": [
       "support_h1b\n",
       "N    79847.087639\n",
       "Y    87494.851191\n",
       "Name: prevailing_wage, dtype: float64"
      ]
     },
     "execution_count": 69,
     "metadata": {},
     "output_type": "execute_result"
    }
   ],
   "source": [
    "sf_data.groupby('support_h1b')['prevailing_wage'].mean()"
   ]
  },
  {
   "cell_type": "code",
   "execution_count": 70,
   "id": "transsexual-premises",
   "metadata": {},
   "outputs": [
    {
     "data": {
      "text/plain": [
       "support_h1b\n",
       "N    74390.0\n",
       "Y    94294.8\n",
       "Name: prevailing_wage, dtype: float64"
      ]
     },
     "execution_count": 70,
     "metadata": {},
     "output_type": "execute_result"
    }
   ],
   "source": [
    "manhattan_data.groupby('support_h1b')['prevailing_wage'].mean()"
   ]
  },
  {
   "cell_type": "code",
   "execution_count": 72,
   "id": "imported-tampa",
   "metadata": {},
   "outputs": [
    {
     "data": {
      "text/plain": [
       "willful_violator\n",
       "N     60187.590476\n",
       "Y    108000.000000\n",
       "Name: prevailing_wage, dtype: float64"
      ]
     },
     "execution_count": 72,
     "metadata": {},
     "output_type": "execute_result"
    }
   ],
   "source": [
    "manhattan_data.groupby('willful_violator')['prevailing_wage'].mean()"
   ]
  },
  {
   "cell_type": "code",
   "execution_count": 73,
   "id": "electronic-brush",
   "metadata": {},
   "outputs": [
    {
     "data": {
      "text/plain": [
       "willful_violator\n",
       "N    97713.711524\n",
       "Y    81560.333333\n",
       "Name: prevailing_wage, dtype: float64"
      ]
     },
     "execution_count": 73,
     "metadata": {},
     "output_type": "execute_result"
    }
   ],
   "source": [
    "sf_data.groupby('willful_violator')['prevailing_wage'].mean()"
   ]
  },
  {
   "cell_type": "code",
   "execution_count": 74,
   "id": "medical-interference",
   "metadata": {},
   "outputs": [
    {
     "data": {
      "text/plain": [
       "N    15115\n",
       "Y        6\n",
       "Name: willful_violator, dtype: int64"
      ]
     },
     "execution_count": 74,
     "metadata": {},
     "output_type": "execute_result"
    }
   ],
   "source": [
    "sf_data['willful_violator'].value_counts()"
   ]
  },
  {
   "cell_type": "code",
   "execution_count": 75,
   "id": "suffering-pasta",
   "metadata": {},
   "outputs": [
    {
     "data": {
      "text/plain": [
       "N    63\n",
       "Y     1\n",
       "Name: willful_violator, dtype: int64"
      ]
     },
     "execution_count": 75,
     "metadata": {},
     "output_type": "execute_result"
    }
   ],
   "source": [
    "manhattan_data['willful_violator'].value_counts()"
   ]
  },
  {
   "cell_type": "code",
   "execution_count": 76,
   "id": "banned-mexico",
   "metadata": {},
   "outputs": [
    {
     "data": {
      "text/plain": [
       "SAN FRANCISCO       8085\n",
       "NEW YORK             531\n",
       "PLANO                401\n",
       "PHILADELPHIA         327\n",
       "SECAUCUS             290\n",
       "SAN JOSE             268\n",
       "FREMONT              241\n",
       "SANTA CLARA          213\n",
       "SEATTLE              202\n",
       "CHICAGO              200\n",
       "MOUNTAIN VIEW        196\n",
       "SUNNYVALE            186\n",
       "BREA                 183\n",
       "TAMPA                149\n",
       "BOSTON               144\n",
       "SAN RAFAEL           117\n",
       "TROY                  98\n",
       "WILMINGTON            95\n",
       "DALLAS                90\n",
       "SAN MATEO             89\n",
       "ROCKVILLE             88\n",
       "REDMOND               77\n",
       "IRVING                69\n",
       "PLEASANTON            68\n",
       "EAST BRUNSWICK        68\n",
       "RICHMOND              56\n",
       "SAN RAMON             53\n",
       "AUSTIN                53\n",
       "WASHINGTON            51\n",
       "DURHAM                50\n",
       "                    ... \n",
       "ALEXANDRIA             1\n",
       "NORTH BRUNSWICK,       1\n",
       "PARK CITY              1\n",
       "JEFFERSON CITY         1\n",
       "EDINA                  1\n",
       "MONTVILLE              1\n",
       "KATY                   1\n",
       "CLIVE                  1\n",
       "SUGAR LAND             1\n",
       "STAFFORD               1\n",
       "CLAWSON                1\n",
       "RUTHERFORD             1\n",
       "KEEGO HARBOR           1\n",
       "LAUREL                 1\n",
       "LA JOLLA               1\n",
       "WASHINGTON DC          1\n",
       "METUCHEN               1\n",
       "MARLBORO               1\n",
       "HEALDSBURG             1\n",
       "CINNAMINSON            1\n",
       "HOOD RIVER             1\n",
       "ANDOVER                1\n",
       "AMARILLO               1\n",
       "EAGAN                  1\n",
       "RIDGEFIELD PARK        1\n",
       "SKOKIE                 1\n",
       "FEDERAL WAY            1\n",
       "MAHWAH                 1\n",
       "EMERYVILLE             1\n",
       "TARRYTOWN              1\n",
       "Name: employer_city, Length: 427, dtype: int64"
      ]
     },
     "execution_count": 76,
     "metadata": {},
     "output_type": "execute_result"
    }
   ],
   "source": [
    "sf_data['employer_city'].value_counts()"
   ]
  },
  {
   "cell_type": "code",
   "execution_count": 77,
   "id": "working-color",
   "metadata": {},
   "outputs": [
    {
     "data": {
      "text/plain": [
       "NEW YORK            38\n",
       "HACKENSACK           3\n",
       "MOUNTAIN VIEW        3\n",
       "SAN JOSE             2\n",
       "FOREST HILLS         2\n",
       "NEW YORK CITY        2\n",
       "MIDDLETOWN           2\n",
       "NORTH BRUNSWICK      2\n",
       "WILMINGTON           2\n",
       "ROME                 2\n",
       "LONG ISLAND CITY     1\n",
       "SPRING               1\n",
       "EDEN PRAIRIE         1\n",
       "WASHINGTON           1\n",
       "BERKELEY             1\n",
       "WOODBRIDGE           1\n",
       "Name: employer_city, dtype: int64"
      ]
     },
     "execution_count": 77,
     "metadata": {},
     "output_type": "execute_result"
    }
   ],
   "source": [
    "manhattan_data['employer_city'].value_counts()"
   ]
  },
  {
   "cell_type": "code",
   "execution_count": 141,
   "id": "digital-stadium",
   "metadata": {},
   "outputs": [
    {
     "data": {
      "text/plain": [
       "91136.28671698114"
      ]
     },
     "execution_count": 141,
     "metadata": {},
     "output_type": "execute_result"
    }
   ],
   "source": [
    "sf_data.groupby('employer_city')['prevailing_wage'].mean()['NEW YORK']"
   ]
  },
  {
   "cell_type": "code",
   "execution_count": 140,
   "id": "fuzzy-amsterdam",
   "metadata": {},
   "outputs": [
    {
     "data": {
      "text/plain": [
       "employer_city\n",
       "BERKELEY                41.660000\n",
       "EDEN PRAIRIE         55744.000000\n",
       "FOREST HILLS         93000.000000\n",
       "HACKENSACK           79373.000000\n",
       "LONG ISLAND CITY    104936.000000\n",
       "MIDDLETOWN           95514.000000\n",
       "MOUNTAIN VIEW        84600.666667\n",
       "NEW YORK             56670.195789\n",
       "NEW YORK CITY        46664.500000\n",
       "NORTH BRUNSWICK      70221.000000\n",
       "ROME                 60580.000000\n",
       "SAN JOSE             28239.490000\n",
       "SPRING               90813.000000\n",
       "WASHINGTON           79123.000000\n",
       "WILMINGTON              25.560000\n",
       "WOODBRIDGE          135283.000000\n",
       "Name: prevailing_wage, dtype: float64"
      ]
     },
     "execution_count": 140,
     "metadata": {},
     "output_type": "execute_result"
    }
   ],
   "source": [
    "manhattan_data.groupby('employer_city')['prevailing_wage'].mean()"
   ]
  },
  {
   "cell_type": "code",
   "execution_count": 78,
   "id": "posted-breakdown",
   "metadata": {},
   "outputs": [
    {
     "data": {
      "text/plain": [
       "Level I      3992\n",
       "Level II     3826\n",
       "Level III    2359\n",
       "Level IV     2006\n",
       "Name: pw_wage_level, dtype: int64"
      ]
     },
     "execution_count": 78,
     "metadata": {},
     "output_type": "execute_result"
    }
   ],
   "source": [
    "sf_data['pw_wage_level'].value_counts()"
   ]
  },
  {
   "cell_type": "code",
   "execution_count": 79,
   "id": "dimensional-necessity",
   "metadata": {},
   "outputs": [
    {
     "data": {
      "text/plain": [
       "Level I      40\n",
       "Level II      5\n",
       "Level III     4\n",
       "Level IV      3\n",
       "Name: pw_wage_level, dtype: int64"
      ]
     },
     "execution_count": 79,
     "metadata": {},
     "output_type": "execute_result"
    }
   ],
   "source": [
    "manhattan_data['pw_wage_level'].value_counts()"
   ]
  },
  {
   "cell_type": "code",
   "execution_count": 80,
   "id": "sublime-wings",
   "metadata": {},
   "outputs": [
    {
     "data": {
      "text/plain": [
       "pw_wage_level\n",
       "Level I       68824.550626\n",
       "Level II      93600.892551\n",
       "Level III    115111.065731\n",
       "Level IV     132955.686196\n",
       "Name: prevailing_wage, dtype: float64"
      ]
     },
     "execution_count": 80,
     "metadata": {},
     "output_type": "execute_result"
    }
   ],
   "source": [
    "sf_data.groupby('pw_wage_level')['prevailing_wage'].mean()"
   ]
  },
  {
   "cell_type": "code",
   "execution_count": 81,
   "id": "proved-terminology",
   "metadata": {},
   "outputs": [
    {
     "data": {
      "text/plain": [
       "pw_wage_level\n",
       "Level I       44246.813500\n",
       "Level II      92006.800000\n",
       "Level III     99118.750000\n",
       "Level IV     102294.666667\n",
       "Name: prevailing_wage, dtype: float64"
      ]
     },
     "execution_count": 81,
     "metadata": {},
     "output_type": "execute_result"
    }
   ],
   "source": [
    "manhattan_data.groupby('pw_wage_level')['prevailing_wage'].mean()"
   ]
  },
  {
   "cell_type": "code",
   "execution_count": null,
   "id": "compressed-queen",
   "metadata": {},
   "outputs": [],
   "source": [
    "#manhattan subset has much less data and much more Level 1 wage levels which contribute to an overall lower average of wage \n",
    "#SF data has much more data to work with and much more salaries from higher level wages,\n",
    "#which could be contributing to the overall higher average wage "
   ]
  },
  {
   "cell_type": "code",
   "execution_count": 82,
   "id": "concrete-january",
   "metadata": {},
   "outputs": [
    {
     "data": {
      "text/plain": [
       "OES      13311\n",
       "Other     1702\n",
       "CBA        108\n",
       "Name: pw_source, dtype: int64"
      ]
     },
     "execution_count": 82,
     "metadata": {},
     "output_type": "execute_result"
    }
   ],
   "source": [
    "#what does pw mean?\n",
    "\n",
    "sf_data['pw_source'].value_counts()"
   ]
  },
  {
   "cell_type": "code",
   "execution_count": 83,
   "id": "metropolitan-halloween",
   "metadata": {},
   "outputs": [
    {
     "data": {
      "text/plain": [
       "OES      47\n",
       "Other    17\n",
       "Name: pw_source, dtype: int64"
      ]
     },
     "execution_count": 83,
     "metadata": {},
     "output_type": "execute_result"
    }
   ],
   "source": [
    "manhattan_data['pw_source'].value_counts()"
   ]
  },
  {
   "cell_type": "code",
   "execution_count": 84,
   "id": "quiet-crazy",
   "metadata": {},
   "outputs": [
    {
     "data": {
      "text/plain": [
       "pw_source\n",
       "CBA      52874.152315\n",
       "OES      99081.517797\n",
       "Other    89804.712009\n",
       "Name: prevailing_wage, dtype: float64"
      ]
     },
     "execution_count": 84,
     "metadata": {},
     "output_type": "execute_result"
    }
   ],
   "source": [
    "sf_data.groupby('pw_source')['prevailing_wage'].mean()"
   ]
  },
  {
   "cell_type": "code",
   "execution_count": 85,
   "id": "talented-throat",
   "metadata": {},
   "outputs": [
    {
     "data": {
      "text/plain": [
       "pw_source\n",
       "OES      65082.971489\n",
       "Other    49465.796471\n",
       "Name: prevailing_wage, dtype: float64"
      ]
     },
     "execution_count": 85,
     "metadata": {},
     "output_type": "execute_result"
    }
   ],
   "source": [
    "manhattan_data.groupby('pw_source')['prevailing_wage'].mean()"
   ]
  },
  {
   "cell_type": "code",
   "execution_count": 86,
   "id": "abroad-twenty",
   "metadata": {},
   "outputs": [
    {
     "data": {
      "text/plain": [
       "Year         14651\n",
       "Hour           464\n",
       "Month            4\n",
       "Bi-Weekly        2\n",
       "Name: wage_unit_of_pay, dtype: int64"
      ]
     },
     "execution_count": 86,
     "metadata": {},
     "output_type": "execute_result"
    }
   ],
   "source": [
    "sf_data['wage_unit_of_pay'].value_counts()"
   ]
  },
  {
   "cell_type": "code",
   "execution_count": 87,
   "id": "communist-nudist",
   "metadata": {},
   "outputs": [
    {
     "data": {
      "text/plain": [
       "wage_unit_of_pay\n",
       "Bi-Weekly      4556.000000\n",
       "Hour            833.211056\n",
       "Month         36749.305000\n",
       "Year         100804.681765\n",
       "Name: prevailing_wage, dtype: float64"
      ]
     },
     "execution_count": 87,
     "metadata": {},
     "output_type": "execute_result"
    }
   ],
   "source": [
    "sf_data.groupby('wage_unit_of_pay')['prevailing_wage'].mean()"
   ]
  },
  {
   "cell_type": "code",
   "execution_count": 88,
   "id": "genuine-burden",
   "metadata": {},
   "outputs": [
    {
     "data": {
      "text/plain": [
       "Year    57\n",
       "Hour     7\n",
       "Name: wage_unit_of_pay, dtype: int64"
      ]
     },
     "execution_count": 88,
     "metadata": {},
     "output_type": "execute_result"
    }
   ],
   "source": [
    "manhattan_data['wage_unit_of_pay'].value_counts()"
   ]
  },
  {
   "cell_type": "code",
   "execution_count": 89,
   "id": "clinical-restriction",
   "metadata": {},
   "outputs": [
    {
     "data": {
      "text/plain": [
       "wage_unit_of_pay\n",
       "Hour       30.028571\n",
       "Year    68414.175439\n",
       "Name: prevailing_wage, dtype: float64"
      ]
     },
     "execution_count": 89,
     "metadata": {},
     "output_type": "execute_result"
    }
   ],
   "source": [
    "manhattan_data.groupby('wage_unit_of_pay')['prevailing_wage'].mean()"
   ]
  },
  {
   "cell_type": "code",
   "execution_count": null,
   "id": "front-confidentiality",
   "metadata": {},
   "outputs": [],
   "source": [
    "#no signifigant insight here"
   ]
  },
  {
   "cell_type": "code",
   "execution_count": 129,
   "id": "antique-directory",
   "metadata": {},
   "outputs": [
    {
     "data": {
      "text/plain": [
       "2016.0    11176\n",
       "2017.0     3069\n",
       "2015.0      518\n",
       "2014.0      258\n",
       "2013.0       71\n",
       "2012.0        3\n",
       "Name: pw_source_year, dtype: int64"
      ]
     },
     "execution_count": 129,
     "metadata": {},
     "output_type": "execute_result"
    }
   ],
   "source": [
    "sf_data['pw_source_year'].value_counts()"
   ]
  },
  {
   "cell_type": "code",
   "execution_count": 130,
   "id": "surprised-baptist",
   "metadata": {},
   "outputs": [
    {
     "data": {
      "text/plain": [
       "2016.0    33\n",
       "2017.0    28\n",
       "2015.0     2\n",
       "2013.0     1\n",
       "Name: pw_source_year, dtype: int64"
      ]
     },
     "execution_count": 130,
     "metadata": {},
     "output_type": "execute_result"
    }
   ],
   "source": [
    "manhattan_data['pw_source_year'].value_counts()"
   ]
  },
  {
   "cell_type": "code",
   "execution_count": 131,
   "id": "endangered-share",
   "metadata": {},
   "outputs": [
    {
     "data": {
      "text/plain": [
       "pw_source_year\n",
       "2012.0     49966.000000\n",
       "2013.0     82827.881972\n",
       "2014.0     89411.718140\n",
       "2015.0     95923.943764\n",
       "2016.0     97346.352965\n",
       "2017.0    100515.424321\n",
       "Name: prevailing_wage, dtype: float64"
      ]
     },
     "execution_count": 131,
     "metadata": {},
     "output_type": "execute_result"
    }
   ],
   "source": [
    "sf_data.groupby('pw_source_year')['prevailing_wage'].mean()"
   ]
  },
  {
   "cell_type": "code",
   "execution_count": 132,
   "id": "joint-photographer",
   "metadata": {},
   "outputs": [
    {
     "data": {
      "text/plain": [
       "pw_source_year\n",
       "2013.0    67205.000000\n",
       "2015.0    57650.000000\n",
       "2016.0    64609.476667\n",
       "2017.0    56614.302500\n",
       "Name: prevailing_wage, dtype: float64"
      ]
     },
     "execution_count": 132,
     "metadata": {},
     "output_type": "execute_result"
    }
   ],
   "source": [
    "manhattan_data.groupby('pw_source_year')['prevailing_wage'].mean()"
   ]
  },
  {
   "cell_type": "code",
   "execution_count": 133,
   "id": "mysterious-headset",
   "metadata": {},
   "outputs": [
    {
     "data": {
      "text/plain": [
       "SOFTWARE DEVELOPERS, APPLICATIONS                     4825\n",
       "COMPUTER SYSTEMS ANALYSTS                             1428\n",
       "COMPUTER OCCUPATIONS, ALL OTHER                       1120\n",
       "SOFTWARE DEVELOPERS, SYSTEMS SOFTWARE                 1087\n",
       "COMPUTER PROGRAMMERS                                   548\n",
       "ACCOUNTANTS AND AUDITORS                               511\n",
       "OPERATIONS RESEARCH ANALYSTS                           486\n",
       "MANAGEMENT ANALYSTS                                    432\n",
       "COMPUTER AND INFORMATION SYSTEMS MANAGERS              402\n",
       "FINANCIAL ANALYSTS                                     397\n",
       "MARKET RESEARCH ANALYSTS AND MARKETING SPECIALISTS     284\n",
       "COMPUTER SYSTEMS ANALYST                               245\n",
       "GRAPHIC DESIGNERS                                      221\n",
       "STATISTICIANS                                          195\n",
       "NETWORK AND COMPUTER SYSTEMS ADMINISTRATORS            126\n",
       "BIOCHEMISTS AND BIOPHYSICISTS                          124\n",
       "MARKETING MANAGERS                                     109\n",
       "SALES ENGINEERS                                        108\n",
       "FINANCIAL SPECIALISTS, ALL OTHER                       107\n",
       "DATABASE ADMINISTRATORS                                 98\n",
       "GENERAL AND OPERATIONS MANAGERS                         89\n",
       "CIVIL ENGINEERS                                         86\n",
       "ARCHITECTURAL AND ENGINEERING MANAGERS                  84\n",
       "INFORMATION SECURITY ANALYSTS                           74\n",
       "SOFTWARE QUALITY ASSURANCE ENGINEERS AND TESTERS        72\n",
       "WEB DEVELOPERS                                          70\n",
       "ARCHITECTS, EXCEPT LANDSCAPE AND NAVAL                  69\n",
       "COMPUTER AND INFORMATION RESEARCH SCIENTISTS            65\n",
       "MULTIMEDIA ARTISTS AND ANIMATORS                        59\n",
       "FINANCIAL MANAGERS                                      58\n",
       "                                                      ... \n",
       "COMPLIANCE MANAGERS                                      1\n",
       "HUMAN FACTORS ENGINEERS AND ERGONOMISTS                  1\n",
       "ECONOMICS TEACHERS, POSTSECONDARY                        1\n",
       "EDUCATION ADMINISTRATORS, ALL OTHER                      1\n",
       "EDUCATIONAL, GUIDANCE, SCHOOL, AND VOCATIONAL            1\n",
       "SOLAR PHOTOVOLTAIC INSTALLERS                            1\n",
       "DENTISTS, GENERAL                                        1\n",
       "BIOMEDICAL ENGINEER                                      1\n",
       "SPECIAL EDUCATION TEACHERS, KINDERGARTEN AND             1\n",
       "CIVIL ENGINEERING TECHNICIANS                            1\n",
       "MIDDLE SCHOOL TEACHERS, EXCEPT SPECIAL AND               1\n",
       "MEDICAL AND HEALTH SERVICES MANAGERS                     1\n",
       "TAX PREPARERS                                            1\n",
       "PHYSICIAN ASSISTANTS                                     1\n",
       "MATERIALS SCIENTISTS                                     1\n",
       "COMPUTER SYSTEMS ANALYSTS, NON R&D                       1\n",
       "HEALTH EDUCATORS                                         1\n",
       "ARTISTS AND RELATED WORKERS, ALL OTHER                   1\n",
       "FINANCIAL EXAMINERS                                      1\n",
       "MARKET RESEARCH ANALYST                                  1\n",
       "MECHATRONICS ENGINEERS                                   1\n",
       "PSYCHOLOGY TEACHERS, POSTSECONDARY                       1\n",
       "ENGINEERING TEACHERS, POSTSECONDARY                      1\n",
       "HEALTH TECHNOLOGISTS AND TECHNICIANS, ALL OTHER          1\n",
       "FIRE-PREVENTION AND PROTECTION ENGINEERS                 1\n",
       "ORTHOTISTS AND PROSTHETISTS                              1\n",
       "SALES REPRESENTATIVES, WHOLESALE AND MANUFACTURING       1\n",
       "TEACHERS AND INSTRUCTORS, ALL OTHER                      1\n",
       "BIOINFORMATICS SCIENTISTS                                1\n",
       "AGENTS AND BUSINESS MANAGERS OF ARTISTS,                 1\n",
       "Name: soc_name, Length: 205, dtype: int64"
      ]
     },
     "execution_count": 133,
     "metadata": {},
     "output_type": "execute_result"
    }
   ],
   "source": [
    "sf_data['soc_name'].value_counts()"
   ]
  },
  {
   "cell_type": "code",
   "execution_count": 135,
   "id": "introductory-chinese",
   "metadata": {},
   "outputs": [
    {
     "data": {
      "text/plain": [
       "SOFTWARE DEVELOPERS, APPLICATIONS                     9\n",
       "COMPUTER SYSTEMS ANALYSTS                             6\n",
       "COMPUTER OCCUPATIONS, ALL OTHER                       5\n",
       "FIRST-LINE SUPERVISORS OF PRODUCTION AND OPERATING    5\n",
       "CUSTOMER SERVICE REPRESENTATIVES                      5\n",
       "MANAGEMENT ANALYSTS                                   4\n",
       "MARKET RESEARCH ANALYSTS AND MARKETING SPECIALISTS    3\n",
       "ACCOUNTANTS AND AUDITORS                              3\n",
       "FINANCIAL SPECIALISTS, ALL OTHER                      3\n",
       "FINANCIAL ANALYSTS                                    3\n",
       "COMPUTER AND INFORMATION SYSTEMS MANAGERS             2\n",
       "ADMINISTRATIVE SERVICES MANAGERS                      2\n",
       "SOFTWARE DEVELOPERS, SYSTEMS SOFTWARE                 2\n",
       "MEETING, CONVENTION, AND EVENT PLANNERS               1\n",
       "BIOLOGICAL SCIENCE TEACHERS, POSTSECONDARY            1\n",
       "ECONOMISTS                                            1\n",
       "OPERATIONS RESEARCH ANALYST                           1\n",
       "LAWYERS                                               1\n",
       "PUBLIC RELATIONS SPECIALISTS                          1\n",
       "BIOLOGICAL SCIENTISTS, ALL OTHER                      1\n",
       "HUMAN RESOURCES SPECIALISTS                           1\n",
       "NETWORK AND COMPUTER SYSTEMS ADMINISTRATORS           1\n",
       "OFFICE AND ADMINISTRATIVE SUPPORT WORKERS, ALL        1\n",
       "MULTIMEDIA ARTISTS AND ANIMATORS                      1\n",
       "OPERATIONS RESEARCH ANALYSTS                          1\n",
       "Name: soc_name, dtype: int64"
      ]
     },
     "execution_count": 135,
     "metadata": {},
     "output_type": "execute_result"
    }
   ],
   "source": [
    "manhattan_data['soc_name'].value_counts()"
   ]
  },
  {
   "cell_type": "code",
   "execution_count": 136,
   "id": "united-library",
   "metadata": {},
   "outputs": [
    {
     "data": {
      "text/plain": [
       "soc_name\n",
       "ACCOUNTANTS AND AUDITORS                               66060.796986\n",
       "ACTUARIES                                              95409.736842\n",
       "ADULT BASIC AND SECONDARY EDUCATION AND LITERACY       55000.000000\n",
       "ADVERTISING AND PROMOTIONS MANAGERS                    78841.797895\n",
       "AEROSPACE ENGINEERING AND OPERATIONS TECHNICIANS          30.050000\n",
       "AEROSPACE ENGINEERS                                   104978.000000\n",
       "AGENTS AND BUSINESS MANAGERS OF ARTISTS,               43514.000000\n",
       "AIRCRAFT MECHANICS AND SERVICE TECHNICIANS                30.975000\n",
       "ANTHROPOLOGISTS AND ARCHEOLOGISTS                      66248.000000\n",
       "ARCHITECTS, EXCEPT LANDSCAPE AND NAVAL                 59729.002029\n",
       "ARCHITECTURAL AND CIVIL DRAFTERS                       49989.842745\n",
       "ARCHITECTURAL AND ENGINEERING MANAGERS                139950.122143\n",
       "ART DIRECTORS                                          98798.197391\n",
       "ART, DRAMA, AND MUSIC TEACHERS, POSTSECONDARY          64559.000000\n",
       "ARTISTS AND RELATED WORKERS, ALL OTHER                 47445.000000\n",
       "BIOCHEMISTS AND BIOPHYSICISTS                          52482.612903\n",
       "BIOINFORMATICS SCIENTISTS                             102398.000000\n",
       "BIOLOGICAL SCIENCE TEACHERS, POSTSECONDARY             60829.750000\n",
       "BIOLOGICAL SCIENTISTS, ALL OTHER                       67328.105263\n",
       "BIOLOGICAL TECHNICIANS                                 59934.400000\n",
       "BIOMEDICAL ENGINEER                                    77147.000000\n",
       "BIOMEDICAL ENGINEERS                                   84268.175789\n",
       "BUDGET ANALYSTS                                        65888.500000\n",
       "BUSINESS INTELLIGENCE ANALYSTS                         91239.000000\n",
       "BUSINESS OPERATIONS SPECIALISTS, ALL OTHER             64426.104706\n",
       "BUSINESS TEACHERS, POSTSECONDARY                       64508.500000\n",
       "CHEFS AND HEAD COOKS                                   58032.000000\n",
       "CHEMICAL ENGINEERS                                     95534.400000\n",
       "CHEMISTS                                               78676.210000\n",
       "CHIEF EXECUTIVES                                      158731.325455\n",
       "                                                          ...      \n",
       "SELF-ENRICHMENT EDUCATION TEACHERS                        22.030000\n",
       "SOCIAL AND COMMUNITY SERVICE MANAGERS                  31153.915000\n",
       "SOCIAL SCIENCE RESEARCH ASSISTANTS                     15430.415000\n",
       "SOCIAL SCIENTISTS AND RELATED WORKERS, ALL OTHER       61818.000000\n",
       "SOCIAL WORKERS, ALL OTHER                              40789.000000\n",
       "SOFTWARE DEVELOPER, APPLICATIONS                       87679.000000\n",
       "SOFTWARE DEVELOPER, SYSTEMS SOFTWARE                   84302.000000\n",
       "SOFTWARE DEVELOPERS, APPLICATIONS                     109375.377938\n",
       "SOFTWARE DEVELOPERS, APPLICATIONS, NON R&D             54015.176000\n",
       "SOFTWARE DEVELOPERS, SYSTEMS SOFTWARE                 122619.763744\n",
       "SOFTWARE QUALITY ASSURANCE ENGINEERS AND TESTERS       77204.059306\n",
       "SOFTWARE QUALITY ASSURANCE ENGINEES AND TESTERS        76918.000000\n",
       "SOLAR PHOTOVOLTAIC INSTALLERS                          46758.000000\n",
       "SPECIAL EDUCATION TEACHERS, KINDERGARTEN AND           63317.000000\n",
       "SPECIAL EDUCATION TEACHERS, PRESCHOOL                  45099.000000\n",
       "STATISTICAL ASSISTANTS                                 53539.500000\n",
       "STATISTICIANS                                         108628.051282\n",
       "SURVEY RESEARCHERS                                     44072.660000\n",
       "TAX EXAMINERS AND COLLECTORS, AND REVENUE AGENTS       68099.000000\n",
       "TAX PREPARERS                                          73258.000000\n",
       "TEACHERS AND INSTRUCTORS, ALL OTHER                    49943.000000\n",
       "TECHNICAL WRITERS                                      73164.513125\n",
       "TRAINING AND DEVELOPMENT MANAGERS                     124184.200000\n",
       "TRAINING AND DEVELOPMENT SPECIALISTS                   74956.000000\n",
       "TRANSPORTATION, STORAGE, AND DISTRIBUTION MANAGERS    104623.857143\n",
       "URBAN AND REGIONAL PLANNERS                            73544.000000\n",
       "VETERINARIANS                                          45284.862500\n",
       "WEB DEVELOPERS                                         76543.822000\n",
       "WHOLESALE AND RETAIL BUYERS, EXCEPT FARM PRODUCTS      54885.000000\n",
       "WRITERS AND AUTHORS                                    54704.516250\n",
       "Name: prevailing_wage, Length: 205, dtype: float64"
      ]
     },
     "execution_count": 136,
     "metadata": {},
     "output_type": "execute_result"
    }
   ],
   "source": [
    "sf_data.groupby('soc_name')['prevailing_wage'].mean()"
   ]
  },
  {
   "cell_type": "code",
   "execution_count": 137,
   "id": "laden-healthcare",
   "metadata": {},
   "outputs": [
    {
     "data": {
      "text/plain": [
       "soc_name\n",
       "ACCOUNTANTS AND AUDITORS                               37282.603333\n",
       "ADMINISTRATIVE SERVICES MANAGERS                      137640.000000\n",
       "BIOLOGICAL SCIENCE TEACHERS, POSTSECONDARY             57130.000000\n",
       "BIOLOGICAL SCIENTISTS, ALL OTHER                       38189.000000\n",
       "COMPUTER AND INFORMATION SYSTEMS MANAGERS             107723.000000\n",
       "COMPUTER OCCUPATIONS, ALL OTHER                        27945.536000\n",
       "COMPUTER SYSTEMS ANALYSTS                              70693.443333\n",
       "CUSTOMER SERVICE REPRESENTATIVES                       25188.600000\n",
       "ECONOMISTS                                                37.070000\n",
       "FINANCIAL ANALYSTS                                     66234.333333\n",
       "FINANCIAL SPECIALISTS, ALL OTHER                       47590.000000\n",
       "FIRST-LINE SUPERVISORS OF PRODUCTION AND OPERATING     42270.800000\n",
       "HUMAN RESOURCES SPECIALISTS                            74984.000000\n",
       "LAWYERS                                                79123.000000\n",
       "MANAGEMENT ANALYSTS                                    40540.745000\n",
       "MARKET RESEARCH ANALYSTS AND MARKETING SPECIALISTS     84663.333333\n",
       "MEETING, CONVENTION, AND EVENT PLANNERS                37170.000000\n",
       "MULTIMEDIA ARTISTS AND ANIMATORS                       47757.000000\n",
       "NETWORK AND COMPUTER SYSTEMS ADMINISTRATORS           115856.000000\n",
       "OFFICE AND ADMINISTRATIVE SUPPORT WORKERS, ALL         30118.000000\n",
       "OPERATIONS RESEARCH ANALYST                            55744.000000\n",
       "OPERATIONS RESEARCH ANALYSTS                          108555.000000\n",
       "PUBLIC RELATIONS SPECIALISTS                           31000.000000\n",
       "SOFTWARE DEVELOPERS, APPLICATIONS                      90893.777778\n",
       "SOFTWARE DEVELOPERS, SYSTEMS SOFTWARE                  72363.000000\n",
       "Name: prevailing_wage, dtype: float64"
      ]
     },
     "execution_count": 137,
     "metadata": {},
     "output_type": "execute_result"
    }
   ],
   "source": [
    "manhattan_data.groupby('soc_name')['prevailing_wage'].mean()"
   ]
  },
  {
   "cell_type": "code",
   "execution_count": 142,
   "id": "electoral-cooking",
   "metadata": {},
   "outputs": [
    {
     "data": {
      "text/plain": [
       "0.14285714285714285"
      ]
     },
     "execution_count": 142,
     "metadata": {},
     "output_type": "execute_result"
    }
   ],
   "source": [
    "9/63"
   ]
  },
  {
   "cell_type": "code",
   "execution_count": 143,
   "id": "enhanced-christmas",
   "metadata": {},
   "outputs": [
    {
     "data": {
      "text/plain": [
       "0.3196422656508778"
      ]
     },
     "execution_count": 143,
     "metadata": {},
     "output_type": "execute_result"
    }
   ],
   "source": [
    "4825/15095"
   ]
  },
  {
   "cell_type": "code",
   "execution_count": 148,
   "id": "established-assistant",
   "metadata": {},
   "outputs": [],
   "source": [
    "ny_data = dataset.loc[(dataset['worksite_city'] == 'NEW YORK') & (dataset['visa_class'] == 'H-1B')]"
   ]
  },
  {
   "cell_type": "code",
   "execution_count": 149,
   "id": "hawaiian-discrimination",
   "metadata": {},
   "outputs": [
    {
     "data": {
      "text/plain": [
       "78040.26546737213"
      ]
     },
     "execution_count": 149,
     "metadata": {},
     "output_type": "execute_result"
    }
   ],
   "source": [
    "ny_data['prevailing_wage'].mean()"
   ]
  },
  {
   "cell_type": "code",
   "execution_count": null,
   "id": "instructional-person",
   "metadata": {},
   "outputs": [],
   "source": []
  }
 ],
 "metadata": {
  "kernelspec": {
   "display_name": "Python 3",
   "language": "python",
   "name": "python3"
  },
  "language_info": {
   "codemirror_mode": {
    "name": "ipython",
    "version": 3
   },
   "file_extension": ".py",
   "mimetype": "text/x-python",
   "name": "python",
   "nbconvert_exporter": "python",
   "pygments_lexer": "ipython3",
   "version": "3.7.3"
  }
 },
 "nbformat": 4,
 "nbformat_minor": 5
}
